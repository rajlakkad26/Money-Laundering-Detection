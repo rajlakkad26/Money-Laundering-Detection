{
 "cells": [
  {
   "cell_type": "code",
   "execution_count": 4,
   "metadata": {
    "_cell_guid": "b1076dfc-b9ad-4769-8c92-a6c4dae69d19",
    "_uuid": "8f2839f25d086af736a60e9eeb907d3b93b6e0e5",
    "execution": {
     "iopub.execute_input": "2023-10-12T13:10:52.965543Z",
     "iopub.status.busy": "2023-10-12T13:10:52.964971Z",
     "iopub.status.idle": "2023-10-12T13:10:56.636794Z",
     "shell.execute_reply": "2023-10-12T13:10:56.635759Z",
     "shell.execute_reply.started": "2023-10-12T13:10:52.965498Z"
    }
   },
   "outputs": [],
   "source": [
    "#importing required libraries for project\n",
    "import numpy as np \n",
    "from numpy import argmax\n",
    "import pandas as pd \n",
    "import os\n",
    "import matplotlib.pyplot as plt \n",
    "import matplotlib.ticker as mticker \n",
    "from matplotlib.ticker import ScalarFormatter \n",
    "import seaborn as sns \n",
    "from sklearn.model_selection import train_test_split\n",
    "from sklearn.preprocessing import MinMaxScaler, StandardScaler\n",
    "from sklearn.metrics import confusion_matrix, ConfusionMatrixDisplay, auc, precision_recall_curve\n",
    "from sklearn.metrics import precision_score, recall_score, accuracy_score, f1_score, log_loss, brier_score_loss, classification_report\n",
    "from sklearn.neural_network import MLPClassifier\n",
    "from sklearn.linear_model import LogisticRegression, Lasso, Ridge\n",
    "from sklearn.discriminant_analysis import LinearDiscriminantAnalysis\n",
    "from sklearn.naive_bayes import GaussianNB\n",
    "from sklearn.tree import DecisionTreeClassifier\n",
    "from sklearn.ensemble import RandomForestClassifier\n",
    "from sklearn.neighbors import KNeighborsClassifier\n",
    "from xgboost import XGBClassifier\n",
    "from xgboost import plot_importance\n",
    "from catboost import CatBoostClassifier\n",
    "from lightgbm import LGBMClassifier\n",
    "from imblearn.over_sampling import SMOTE\n",
    "import datetime\n",
    "from sklearn.pipeline import Pipeline\n",
    "\n"
   ]
  },
  {
   "cell_type": "code",
   "execution_count": 5,
   "metadata": {
    "execution": {
     "iopub.execute_input": "2023-10-12T13:10:57.485498Z",
     "iopub.status.busy": "2023-10-12T13:10:57.48503Z",
     "iopub.status.idle": "2023-10-12T13:11:21.981096Z",
     "shell.execute_reply": "2023-10-12T13:11:21.979965Z",
     "shell.execute_reply.started": "2023-10-12T13:10:57.485464Z"
    }
   },
   "outputs": [
    {
     "data": {
      "text/html": [
       "<div>\n",
       "<style scoped>\n",
       "    .dataframe tbody tr th:only-of-type {\n",
       "        vertical-align: middle;\n",
       "    }\n",
       "\n",
       "    .dataframe tbody tr th {\n",
       "        vertical-align: top;\n",
       "    }\n",
       "\n",
       "    .dataframe thead th {\n",
       "        text-align: right;\n",
       "    }\n",
       "</style>\n",
       "<table border=\"1\" class=\"dataframe\">\n",
       "  <thead>\n",
       "    <tr style=\"text-align: right;\">\n",
       "      <th></th>\n",
       "      <th>step</th>\n",
       "      <th>type</th>\n",
       "      <th>amount</th>\n",
       "      <th>nameOrig</th>\n",
       "      <th>oldbalanceOrg</th>\n",
       "      <th>newbalanceOrig</th>\n",
       "      <th>nameDest</th>\n",
       "      <th>oldbalanceDest</th>\n",
       "      <th>newbalanceDest</th>\n",
       "      <th>isFraud</th>\n",
       "      <th>isFlaggedFraud</th>\n",
       "    </tr>\n",
       "  </thead>\n",
       "  <tbody>\n",
       "    <tr>\n",
       "      <th>0</th>\n",
       "      <td>1</td>\n",
       "      <td>PAYMENT</td>\n",
       "      <td>9839.64</td>\n",
       "      <td>C1231006815</td>\n",
       "      <td>170136.00</td>\n",
       "      <td>160296.36</td>\n",
       "      <td>M1979787155</td>\n",
       "      <td>0.00</td>\n",
       "      <td>0.00</td>\n",
       "      <td>0</td>\n",
       "      <td>0</td>\n",
       "    </tr>\n",
       "    <tr>\n",
       "      <th>1</th>\n",
       "      <td>1</td>\n",
       "      <td>PAYMENT</td>\n",
       "      <td>1864.28</td>\n",
       "      <td>C1666544295</td>\n",
       "      <td>21249.00</td>\n",
       "      <td>19384.72</td>\n",
       "      <td>M2044282225</td>\n",
       "      <td>0.00</td>\n",
       "      <td>0.00</td>\n",
       "      <td>0</td>\n",
       "      <td>0</td>\n",
       "    </tr>\n",
       "    <tr>\n",
       "      <th>2</th>\n",
       "      <td>1</td>\n",
       "      <td>TRANSFER</td>\n",
       "      <td>181.00</td>\n",
       "      <td>C1305486145</td>\n",
       "      <td>181.00</td>\n",
       "      <td>0.00</td>\n",
       "      <td>C553264065</td>\n",
       "      <td>0.00</td>\n",
       "      <td>0.00</td>\n",
       "      <td>1</td>\n",
       "      <td>0</td>\n",
       "    </tr>\n",
       "    <tr>\n",
       "      <th>3</th>\n",
       "      <td>1</td>\n",
       "      <td>CASH_OUT</td>\n",
       "      <td>181.00</td>\n",
       "      <td>C840083671</td>\n",
       "      <td>181.00</td>\n",
       "      <td>0.00</td>\n",
       "      <td>C38997010</td>\n",
       "      <td>21182.00</td>\n",
       "      <td>0.00</td>\n",
       "      <td>1</td>\n",
       "      <td>0</td>\n",
       "    </tr>\n",
       "    <tr>\n",
       "      <th>4</th>\n",
       "      <td>1</td>\n",
       "      <td>PAYMENT</td>\n",
       "      <td>11668.14</td>\n",
       "      <td>C2048537720</td>\n",
       "      <td>41554.00</td>\n",
       "      <td>29885.86</td>\n",
       "      <td>M1230701703</td>\n",
       "      <td>0.00</td>\n",
       "      <td>0.00</td>\n",
       "      <td>0</td>\n",
       "      <td>0</td>\n",
       "    </tr>\n",
       "    <tr>\n",
       "      <th>...</th>\n",
       "      <td>...</td>\n",
       "      <td>...</td>\n",
       "      <td>...</td>\n",
       "      <td>...</td>\n",
       "      <td>...</td>\n",
       "      <td>...</td>\n",
       "      <td>...</td>\n",
       "      <td>...</td>\n",
       "      <td>...</td>\n",
       "      <td>...</td>\n",
       "      <td>...</td>\n",
       "    </tr>\n",
       "    <tr>\n",
       "      <th>6362615</th>\n",
       "      <td>743</td>\n",
       "      <td>CASH_OUT</td>\n",
       "      <td>339682.13</td>\n",
       "      <td>C786484425</td>\n",
       "      <td>339682.13</td>\n",
       "      <td>0.00</td>\n",
       "      <td>C776919290</td>\n",
       "      <td>0.00</td>\n",
       "      <td>339682.13</td>\n",
       "      <td>1</td>\n",
       "      <td>0</td>\n",
       "    </tr>\n",
       "    <tr>\n",
       "      <th>6362616</th>\n",
       "      <td>743</td>\n",
       "      <td>TRANSFER</td>\n",
       "      <td>6311409.28</td>\n",
       "      <td>C1529008245</td>\n",
       "      <td>6311409.28</td>\n",
       "      <td>0.00</td>\n",
       "      <td>C1881841831</td>\n",
       "      <td>0.00</td>\n",
       "      <td>0.00</td>\n",
       "      <td>1</td>\n",
       "      <td>0</td>\n",
       "    </tr>\n",
       "    <tr>\n",
       "      <th>6362617</th>\n",
       "      <td>743</td>\n",
       "      <td>CASH_OUT</td>\n",
       "      <td>6311409.28</td>\n",
       "      <td>C1162922333</td>\n",
       "      <td>6311409.28</td>\n",
       "      <td>0.00</td>\n",
       "      <td>C1365125890</td>\n",
       "      <td>68488.84</td>\n",
       "      <td>6379898.11</td>\n",
       "      <td>1</td>\n",
       "      <td>0</td>\n",
       "    </tr>\n",
       "    <tr>\n",
       "      <th>6362618</th>\n",
       "      <td>743</td>\n",
       "      <td>TRANSFER</td>\n",
       "      <td>850002.52</td>\n",
       "      <td>C1685995037</td>\n",
       "      <td>850002.52</td>\n",
       "      <td>0.00</td>\n",
       "      <td>C2080388513</td>\n",
       "      <td>0.00</td>\n",
       "      <td>0.00</td>\n",
       "      <td>1</td>\n",
       "      <td>0</td>\n",
       "    </tr>\n",
       "    <tr>\n",
       "      <th>6362619</th>\n",
       "      <td>743</td>\n",
       "      <td>CASH_OUT</td>\n",
       "      <td>850002.52</td>\n",
       "      <td>C1280323807</td>\n",
       "      <td>850002.52</td>\n",
       "      <td>0.00</td>\n",
       "      <td>C873221189</td>\n",
       "      <td>6510099.11</td>\n",
       "      <td>7360101.63</td>\n",
       "      <td>1</td>\n",
       "      <td>0</td>\n",
       "    </tr>\n",
       "  </tbody>\n",
       "</table>\n",
       "<p>6362620 rows × 11 columns</p>\n",
       "</div>"
      ],
      "text/plain": [
       "         step      type      amount     nameOrig  oldbalanceOrg  \\\n",
       "0           1   PAYMENT     9839.64  C1231006815      170136.00   \n",
       "1           1   PAYMENT     1864.28  C1666544295       21249.00   \n",
       "2           1  TRANSFER      181.00  C1305486145         181.00   \n",
       "3           1  CASH_OUT      181.00   C840083671         181.00   \n",
       "4           1   PAYMENT    11668.14  C2048537720       41554.00   \n",
       "...       ...       ...         ...          ...            ...   \n",
       "6362615   743  CASH_OUT   339682.13   C786484425      339682.13   \n",
       "6362616   743  TRANSFER  6311409.28  C1529008245     6311409.28   \n",
       "6362617   743  CASH_OUT  6311409.28  C1162922333     6311409.28   \n",
       "6362618   743  TRANSFER   850002.52  C1685995037      850002.52   \n",
       "6362619   743  CASH_OUT   850002.52  C1280323807      850002.52   \n",
       "\n",
       "         newbalanceOrig     nameDest  oldbalanceDest  newbalanceDest  isFraud  \\\n",
       "0             160296.36  M1979787155            0.00            0.00        0   \n",
       "1              19384.72  M2044282225            0.00            0.00        0   \n",
       "2                  0.00   C553264065            0.00            0.00        1   \n",
       "3                  0.00    C38997010        21182.00            0.00        1   \n",
       "4              29885.86  M1230701703            0.00            0.00        0   \n",
       "...                 ...          ...             ...             ...      ...   \n",
       "6362615            0.00   C776919290            0.00       339682.13        1   \n",
       "6362616            0.00  C1881841831            0.00            0.00        1   \n",
       "6362617            0.00  C1365125890        68488.84      6379898.11        1   \n",
       "6362618            0.00  C2080388513            0.00            0.00        1   \n",
       "6362619            0.00   C873221189      6510099.11      7360101.63        1   \n",
       "\n",
       "         isFlaggedFraud  \n",
       "0                     0  \n",
       "1                     0  \n",
       "2                     0  \n",
       "3                     0  \n",
       "4                     0  \n",
       "...                 ...  \n",
       "6362615               0  \n",
       "6362616               0  \n",
       "6362617               0  \n",
       "6362618               0  \n",
       "6362619               0  \n",
       "\n",
       "[6362620 rows x 11 columns]"
      ]
     },
     "execution_count": 5,
     "metadata": {},
     "output_type": "execute_result"
    }
   ],
   "source": [
    "#importing and reading data\n",
    "data = pd.read_csv('Fraud_Analysis_Data.csv')\n",
    "data"
   ]
  },
  {
   "cell_type": "markdown",
   "metadata": {},
   "source": [
    "#  Data Preprocessing"
   ]
  },
  {
   "cell_type": "code",
   "execution_count": 6,
   "metadata": {
    "execution": {
     "iopub.execute_input": "2023-10-12T13:11:21.984169Z",
     "iopub.status.busy": "2023-10-12T13:11:21.983365Z",
     "iopub.status.idle": "2023-10-12T13:11:22.000133Z",
     "shell.execute_reply": "2023-10-12T13:11:21.999269Z",
     "shell.execute_reply.started": "2023-10-12T13:11:21.984134Z"
    }
   },
   "outputs": [],
   "source": [
    "#Average time delta between transactions not used in calculations\n",
    "def list_diff(x_input):\n",
    "    if len(x_input)<2:\n",
    "        xdiff = 0\n",
    "        delta_mean=0\n",
    "    else:\n",
    "        xdiff = [x_input[n]-x_input[n-1] for n in range(1,len(x_input))]\n",
    "        delta_mean = np.mean(xdiff)\n",
    "    return delta_mean\n",
    "    \n",
    "#Delta before last transaction not used in calculations\n",
    "def delta_last(x_input):\n",
    "    if len(x_input)<2:\n",
    "        delta_l=0\n",
    "    else:\n",
    "        delta_l = x_input[-1]-x_input[-2]\n",
    "    return delta_l\n",
    "\n",
    "def data_preprocessing(data):\n",
    "    #number of transactions Orig not used in calculations\n",
    "    dict_count_sent = data['nameOrig'].value_counts()\n",
    "    data['New_TotalOrig']= data['nameOrig'].map(dict_count_sent) \n",
    "    \n",
    "    #number of transactions Dest not used in calculations\n",
    "    dict_count_get = data['nameDest'].value_counts()\n",
    "    data['New_TotalDest']= data['nameDest'].map(dict_count_get)\n",
    "    \n",
    "    #average transaction Orig not used in calculations\n",
    "    trans_mean_orig = data.groupby(\"nameOrig\")[\"amount\"].aggregate(['mean'])\n",
    "    dict_trans_mean_orig=trans_mean_orig.to_dict()\n",
    "    value_dict_trans_mean_orig=dict_trans_mean_orig['mean']\n",
    "    data['New_TotalMeanOrig']=data['nameOrig'].map(value_dict_trans_mean_orig)\n",
    "    \n",
    "    #average transaction Dest not used in calculations\n",
    "    trans_mean_dest = data.groupby(\"nameDest\")[\"amount\"].aggregate(['mean'])\n",
    "    dict_trans_mean_dest=trans_mean_dest.to_dict()\n",
    "    value_dict_trans_mean_dest=dict_trans_mean_dest['mean']\n",
    "    data['New_TotalMeanDest']=data['nameDest'].map(value_dict_trans_mean_dest)\n",
    "    \n",
    "    #Amount of transactions with participation Orig not used in calculations\n",
    "    trans_sum_orig = data.groupby(\"nameOrig\")[\"amount\"].aggregate([sum])\n",
    "    dict_trans_sum_orig=trans_sum_orig.to_dict()\n",
    "    value_dict_trans_sum_orig=dict_trans_sum_orig['sum']\n",
    "    data['New_TotalSumOrig']=data['nameOrig'].map(value_dict_trans_sum_orig)\n",
    "    \n",
    "    #Amount of transactions with participation Dest not used in calculations\n",
    "    trans_sum_dest = data.groupby(\"nameDest\")[\"amount\"].aggregate([sum])\n",
    "    dict_trans_sum_dest=trans_sum_dest.to_dict()\n",
    "    value_dict_trans_sum_dest=dict_trans_sum_dest['sum']\n",
    "    data['New_TotalSumDest']=data['nameDest'].map(value_dict_trans_sum_dest)\n",
    "    \n",
    "    #type Orig ==first letter from nameOrig \n",
    "    data['New_TypeOrig']= data['nameOrig'].apply(lambda x: x[0])\n",
    "    \n",
    "    #type Dest ==first letter from nameDest\n",
    "    data['New_TypeDest']= data['nameDest'].apply(lambda x: x[0])\n",
    "    \n",
    "    #Average time delta between transactions Orig not used in calculations\n",
    "    x_input = data.groupby('nameOrig')['step'].apply(list).reset_index(name='info')\n",
    "    data = pd.merge(data, x_input, how='left', on='nameOrig')\n",
    "    data['New_Delta_Time_Tr_Orig'] = data['info'].apply(lambda x: list_diff(x))\n",
    "    #time to previous transaction Orig !not used in calculations\n",
    "    data['New_Delta_Last_Tr_Orig']= data['info'].apply(lambda x: delta_last(x))\n",
    "    \n",
    "    #Average time delta between transactions Dest not used in calculations\n",
    "    x_input_dest = data.groupby('nameDest')['step'].apply(list).reset_index(name='info_2')\n",
    "    data = pd.merge(data, x_input_dest, how='left', on='nameDest')\n",
    "    data['New_Delta_Time_Tr_Dest'] = data['info_2'].apply(lambda x: list_diff(x) )\n",
    "    #time to previous transaction Dest !not used in calculations\n",
    "    data['New_Delta_Last_Tr_Dest']= data['info_2'].apply(lambda x: delta_last(x))\n",
    "    \n",
    "    #Removing extra columns\n",
    "    data = data.drop(columns=['info','info_2'])\n",
    "    \n",
    "    #delete first letter Orig , Dest\n",
    "    data['nameOrig']=data['nameOrig'].apply(lambda x: x[1:])\n",
    "    data['nameDest']=data['nameDest'].apply(lambda x: x[1:])\n",
    "    \n",
    "    #!not used in calculations\n",
    "    data['res_data']=pd.to_datetime(data['step'], unit='h', origin=pd.Timestamp('2000-01-01'))\n",
    "    \n",
    "    ### Select the date, days of the week, hours, month  not used in calculations\n",
    "    data['date'] = data.res_data.dt.date\n",
    "    data['day_of_week'] = data.res_data.dt.dayofweek\n",
    "    data['hour'] = data.res_data.dt.hour\n",
    "    data['month'] = data.res_data.dt.month\n",
    "    \n",
    "    return data\n",
    "        "
   ]
  },
  {
   "cell_type": "code",
   "execution_count": null,
   "metadata": {
    "execution": {
     "iopub.execute_input": "2023-10-12T13:11:22.00382Z",
     "iopub.status.busy": "2023-10-12T13:11:22.003014Z",
     "iopub.status.idle": "2023-10-12T13:20:42.081461Z",
     "shell.execute_reply": "2023-10-12T13:20:42.080337Z",
     "shell.execute_reply.started": "2023-10-12T13:11:22.00378Z"
    }
   },
   "outputs": [],
   "source": [
    "#loading the preprocesses data\n",
    "data_f = data_preprocessing(data)\n",
    "data_f"
   ]
  },
  {
   "cell_type": "code",
   "execution_count": null,
   "metadata": {
    "execution": {
     "iopub.execute_input": "2023-10-12T13:20:42.085463Z",
     "iopub.status.busy": "2023-10-12T13:20:42.084285Z",
     "iopub.status.idle": "2023-10-12T13:20:42.093103Z",
     "shell.execute_reply": "2023-10-12T13:20:42.092006Z",
     "shell.execute_reply.started": "2023-10-12T13:20:42.085415Z"
    }
   },
   "outputs": [],
   "source": [
    "data_f.columns"
   ]
  },
  {
   "cell_type": "markdown",
   "metadata": {},
   "source": [
    "# EDA"
   ]
  },
  {
   "cell_type": "markdown",
   "metadata": {},
   "source": [
    "let's сheck if there are duplicates in the data"
   ]
  },
  {
   "cell_type": "code",
   "execution_count": null,
   "metadata": {
    "execution": {
     "iopub.execute_input": "2023-10-12T13:20:42.09511Z",
     "iopub.status.busy": "2023-10-12T13:20:42.094444Z",
     "iopub.status.idle": "2023-10-12T13:21:20.309162Z",
     "shell.execute_reply": "2023-10-12T13:21:20.307906Z",
     "shell.execute_reply.started": "2023-10-12T13:20:42.095068Z"
    }
   },
   "outputs": [],
   "source": [
    "#printing duplicate values\n",
    "print('Number of duplicates are : ', data_f.duplicated().sum())"
   ]
  },
  {
   "cell_type": "markdown",
   "metadata": {},
   "source": [
    "let's check for gaps in the data"
   ]
  },
  {
   "cell_type": "code",
   "execution_count": null,
   "metadata": {
    "execution": {
     "iopub.execute_input": "2023-10-12T13:26:29.735162Z",
     "iopub.status.busy": "2023-10-12T13:26:29.734725Z",
     "iopub.status.idle": "2023-10-12T13:26:35.236948Z",
     "shell.execute_reply": "2023-10-12T13:26:35.235696Z",
     "shell.execute_reply.started": "2023-10-12T13:26:29.735135Z"
    }
   },
   "outputs": [],
   "source": [
    "#checking for null values\n",
    "data_f.isnull().sum()"
   ]
  },
  {
   "cell_type": "markdown",
   "metadata": {},
   "source": [
    "let's plot Correlation Matrix "
   ]
  },
  {
   "cell_type": "code",
   "execution_count": null,
   "metadata": {
    "execution": {
     "iopub.execute_input": "2023-10-12T13:26:35.239523Z",
     "iopub.status.busy": "2023-10-12T13:26:35.238887Z",
     "iopub.status.idle": "2023-10-12T13:26:42.025913Z",
     "shell.execute_reply": "2023-10-12T13:26:42.024798Z",
     "shell.execute_reply.started": "2023-10-12T13:26:35.239486Z"
    }
   },
   "outputs": [],
   "source": [
    "#plotting Correlation Heatmap\n",
    "def heatmap_eda(data):\n",
    "    data_heat = data[['step', 'amount', 'nameOrig', 'oldbalanceOrg', 'newbalanceOrig',\n",
    "       'nameDest', 'oldbalanceDest', 'newbalanceDest', 'isFraud',\n",
    "       'isFlaggedFraud']]\n",
    "    \n",
    "    plt.figure(figsize=(6, 4))\n",
    "    mask = np.triu(np.ones_like(data_heat.corr(), dtype=np.bool))\n",
    "    heatmap = sns.heatmap(data_heat.corr(), mask=mask, vmin=-1, vmax=1, center=0, annot=False, cmap=\"Set2\")\n",
    "    heatmap.set_title('Correlation Heatmap', pad=12)\n",
    "\n",
    "heatmap_eda(data_f)"
   ]
  },
  {
   "cell_type": "markdown",
   "metadata": {},
   "source": [
    "Let's make a barplot to see the fraud and non fraud transactions in different transactions type"
   ]
  },
  {
   "cell_type": "code",
   "execution_count": null,
   "metadata": {
    "execution": {
     "iopub.execute_input": "2023-10-12T13:26:42.029047Z",
     "iopub.status.busy": "2023-10-12T13:26:42.028339Z",
     "iopub.status.idle": "2023-10-12T13:26:47.55795Z",
     "shell.execute_reply": "2023-10-12T13:26:47.556746Z",
     "shell.execute_reply.started": "2023-10-12T13:26:42.029003Z"
    }
   },
   "outputs": [],
   "source": [
    "#plotting barplot to check for fraud and non fraud transactions\n",
    "def countplot_eda(data_f):\n",
    "    sns.set_style('whitegrid')\n",
    "    sns.set_context('notebook')\n",
    "    plt.figure(figsize=(8, 4))\n",
    "    count_plot = sns.countplot(data=data_plot, x='type', hue='isFraud', palette=\"pastel\")\n",
    "    count_plot.set_xlabel('Type')\n",
    "    count_plot.set_ylabel('Count')\n",
    "    count_plot.set_yscale('log')\n",
    "    count_plot.yaxis.set_major_formatter(mticker.ScalarFormatter())\n",
    "    plt.show()\n",
    "\n",
    "countplot_eda(data_f)"
   ]
  },
  {
   "cell_type": "markdown",
   "metadata": {},
   "source": [
    "* As we can see, fraud transactions are done in TRANSFER and CASH_OUT transaction type."
   ]
  },
  {
   "cell_type": "code",
   "execution_count": null,
   "metadata": {
    "execution": {
     "iopub.execute_input": "2023-10-12T13:26:47.559641Z",
     "iopub.status.busy": "2023-10-12T13:26:47.559297Z",
     "iopub.status.idle": "2023-10-12T13:26:50.500737Z",
     "shell.execute_reply": "2023-10-12T13:26:50.499908Z",
     "shell.execute_reply.started": "2023-10-12T13:26:47.5596Z"
    }
   },
   "outputs": [],
   "source": [
    "#plotting histogram \n",
    "def histplot_eda(data):\n",
    "    plt.figure(figsize=(10, 6))\n",
    "palette = sns.color_palette(\"pastel\")\n",
    "hist_plot = sns.histplot(data=data[:100000], \n",
    "                            x='amount', \n",
    "                            hue='isFraud', \n",
    "                            kde=True, \n",
    "                            element='step', \n",
    "                            palette=\"Set2\", \n",
    "                            log_scale=True)\n",
    "hist_plot.set_ylabel('Number of Observations')\n",
    "hist_plot.set_xlabel('Amount')\n",
    "mean_value_f = data[data['isFraud']==False]['amount'].mean()\n",
    "mean_value_t = data[data['isFraud']==True]['amount'].mean()\n",
    "hist_plot.axvline(x=mean_value_f, color=palette[0])\n",
    "hist_plot.axvline(x=mean_value_t, color=palette[-1])\n",
    "hist_plot.annotate(f'Mean amount for regular transactions: ${mean_value_f:,.2f}', \n",
    "                      xy=(0.1, 0.5),\n",
    "                      xycoords='axes fraction')\n",
    "hist_plot.annotate(f'Mean amount for fraudulent transactions: ${mean_value_t:,.2f}', \n",
    "                      xy=(0.1, 0.3),\n",
    "                      xycoords='axes fraction')\n",
    "hist_plot.xaxis.set_major_formatter(mticker.ScalarFormatter())\n",
    "hist_plot.ticklabel_format(style='plain', axis='x')  \n",
    "plt.show()\n",
    "    \n",
    "histplot_eda(data_f)"
   ]
  },
  {
   "cell_type": "markdown",
   "metadata": {},
   "source": [
    "* As we can see, the transaction amount is significantly higher for fraud transactions."
   ]
  },
  {
   "cell_type": "code",
   "execution_count": null,
   "metadata": {
    "execution": {
     "iopub.execute_input": "2023-10-12T13:26:50.502899Z",
     "iopub.status.busy": "2023-10-12T13:26:50.502438Z",
     "iopub.status.idle": "2023-10-12T13:27:01.183856Z",
     "shell.execute_reply": "2023-10-12T13:27:01.182651Z",
     "shell.execute_reply.started": "2023-10-12T13:26:50.50287Z"
    }
   },
   "outputs": [],
   "source": [
    "fig = plt.figure()\n",
    "fig.set_size_inches(12, 4)\n",
    "ax_1 = fig.add_subplot(1, 2, 1)\n",
    "sns.countplot(data=data_f, \n",
    "              x='New_TypeOrig', \n",
    "              hue='isFraud',\n",
    "              palette= \"pastel\").set_yscale('log')\n",
    "ax_2 = fig.add_subplot(1, 2, 2)\n",
    "sns.countplot(data=data_f, \n",
    "              x='New_TypeDest', \n",
    "              hue='isFraud',\n",
    "              palette= \"pastel\").set_yscale('log')\n",
    "fig.tight_layout()\n",
    "ax_1.set(title = 'Orig')\n",
    "ax_2.set(title = 'Dest')\n",
    "plt.show()"
   ]
  },
  {
   "cell_type": "markdown",
   "metadata": {},
   "source": [
    "**Let's see how transactions are distributed over time**"
   ]
  },
  {
   "cell_type": "code",
   "execution_count": null,
   "metadata": {
    "execution": {
     "iopub.execute_input": "2023-10-12T13:27:01.186131Z",
     "iopub.status.busy": "2023-10-12T13:27:01.185662Z",
     "iopub.status.idle": "2023-10-12T13:27:05.985194Z",
     "shell.execute_reply": "2023-10-12T13:27:05.984089Z",
     "shell.execute_reply.started": "2023-10-12T13:27:01.186088Z"
    }
   },
   "outputs": [],
   "source": [
    "fig = plt.figure()\n",
    "fig.set_size_inches(20, 14)\n",
    "ax_1 = fig.add_subplot(2, 1, 1)\n",
    "plt.hist(data_f[data_f['isFraud']==1]['res_data'], \n",
    "         bins=data_f['res_data'].unique(), \n",
    "         color = \"blue\")\n",
    "ax_2 = fig.add_subplot(2, 1, 2)\n",
    "plt.hist(data_f[data_f['isFraud']==0]['res_data'], \n",
    "         bins=data_f['res_data'].unique(),\n",
    "         color = \"blue\")\n",
    "fig.tight_layout()\n",
    "ax_1.set(title = 'Number of Fraudulent Transactions')\n",
    "ax_2.set(title = 'Number of Non-Fraudulent Transactions')\n",
    "plt.show()"
   ]
  },
  {
   "cell_type": "code",
   "execution_count": null,
   "metadata": {
    "execution": {
     "iopub.execute_input": "2023-10-12T13:27:05.987225Z",
     "iopub.status.busy": "2023-10-12T13:27:05.986798Z",
     "iopub.status.idle": "2023-10-12T13:27:08.082202Z",
     "shell.execute_reply": "2023-10-12T13:27:08.081063Z",
     "shell.execute_reply.started": "2023-10-12T13:27:05.987187Z"
    }
   },
   "outputs": [],
   "source": [
    "fig = plt.figure()\n",
    "fig.set_size_inches(16, 6)\n",
    "\n",
    "ax_1 = fig.add_subplot(1, 2, 1)\n",
    "plt.plot(data_f[data_f['isFraud']==1].groupby(['day_of_week']).size())\n",
    "plt.xticks(range(7), labels=['Monday', 'Tuesday', 'Wednesday', 'Thursday', 'Friday', 'Saturday', 'Sunday'], \n",
    "           rotation=30)\n",
    "\n",
    "ax_2 = fig.add_subplot(1, 2, 2)\n",
    "plt.plot(data_f[data_f['isFraud']==0].groupby(['day_of_week']).size())\n",
    "plt.xticks(range(7), labels=['Monday', 'Tuesday', 'Wednesday', 'Thursday', 'Friday', 'Saturday', 'Sunday'], \n",
    "           rotation=30)\n",
    "\n",
    "fig.tight_layout()\n",
    "ax_1.set(title = 'Number of fraudulent transactions by day of the week')\n",
    "ax_2.set(title = 'Number of non-fraudulent transactions by day of the week')\n",
    "plt.show()"
   ]
  },
  {
   "cell_type": "markdown",
   "metadata": {},
   "source": [
    "* We see the maximum number of fraudulent transactions on Monday and minimum number of fraudulent transactions on Thursday\n",
    "* We see the maximum number of non-fraudulent transactions on Saturday and minimum number of fraudulent transactions on Wednesday"
   ]
  },
  {
   "cell_type": "code",
   "execution_count": null,
   "metadata": {
    "execution": {
     "iopub.execute_input": "2023-10-12T13:27:08.084915Z",
     "iopub.status.busy": "2023-10-12T13:27:08.084546Z",
     "iopub.status.idle": "2023-10-12T13:27:10.256836Z",
     "shell.execute_reply": "2023-10-12T13:27:10.255644Z",
     "shell.execute_reply.started": "2023-10-12T13:27:08.084887Z"
    }
   },
   "outputs": [],
   "source": [
    "fig = plt.figure()\n",
    "fig.set_size_inches(16, 6)\n",
    "\n",
    "ax_1 = fig.add_subplot(1, 2, 1)\n",
    "plt.plot(data_f[data_f['isFraud']==1].groupby(['hour']).size())\n",
    "plt.xticks(rotation=30)\n",
    "\n",
    "ax_2 = fig.add_subplot(1, 2, 2)\n",
    "plt.plot(data_f[data_f['isFraud']==0].groupby(['hour']).size())\n",
    "plt.xticks(rotation=30)\n",
    "\n",
    "fig.tight_layout()\n",
    "ax_1.set(title = 'Number of fraudulent transactions by hour')\n",
    "ax_2.set(title = 'Number of non-fraudulent transactions by hour')\n",
    "plt.show()"
   ]
  },
  {
   "cell_type": "code",
   "execution_count": null,
   "metadata": {
    "execution": {
     "iopub.execute_input": "2023-10-12T13:27:10.258456Z",
     "iopub.status.busy": "2023-10-12T13:27:10.258136Z",
     "iopub.status.idle": "2023-10-12T13:27:12.893625Z",
     "shell.execute_reply": "2023-10-12T13:27:12.89248Z",
     "shell.execute_reply.started": "2023-10-12T13:27:10.258428Z"
    }
   },
   "outputs": [],
   "source": [
    "### Let's build average target curves by hours for each day of the week\n",
    "frame_1 = data_f[data_f['isFraud']==1].groupby(['day_of_week', 'hour'], as_index=False)['amount'].count()\n",
    "frame_1 = frame_1.pivot(index='hour', columns='day_of_week', values='amount')\n",
    "frame_1.plot(figsize=(12, 4),color=['#1f77b4', '#ff7f0e', '#2ca02c', \n",
    "                                   '#d62728', '#9467bd','#8c564b', '#e377c2'])\n",
    "plt.xticks(rotation=30)\n",
    "plt.title('Number of fraudulent transactions by hour for each day of the week')\n",
    "plt.legend(['Monday', 'Tuesday', 'Wednesday', 'Thursday', 'Friday', 'Saturday', 'Sunday'])\n",
    "\n",
    "frame_2 = data_f[data_f['isFraud']==0].groupby(['day_of_week', 'hour'], as_index=False)['amount'].count()\n",
    "frame_2 = frame_2.pivot(index='hour', columns='day_of_week', values='amount')\n",
    "frame_2.plot(figsize=(12, 4),color=['#1f77b4', '#ff7f0e', '#2ca02c', \n",
    "                                   '#d62728', '#9467bd','#8c564b', '#e377c2'])\n",
    "plt.xticks(rotation=30)\n",
    "plt.title('Number of non-fraudulent transactions by hour for each day of the week')\n",
    "plt.legend(['Monday', 'Tuesday', 'Wednesday', 'Thursday', 'Friday', 'Saturday', 'Sunday'])\n",
    "\n",
    "plt.show()"
   ]
  },
  {
   "cell_type": "markdown",
   "metadata": {},
   "source": [
    "* It can be seen that the peak almost always falls at the same time on almost any day of the week, around 17-20 hours."
   ]
  },
  {
   "cell_type": "markdown",
   "metadata": {},
   "source": [
    "# Data preparation"
   ]
  },
  {
   "cell_type": "code",
   "execution_count": null,
   "metadata": {
    "execution": {
     "iopub.execute_input": "2023-10-12T13:27:19.876677Z",
     "iopub.status.busy": "2023-10-12T13:27:19.876218Z",
     "iopub.status.idle": "2023-10-12T13:27:20.395629Z",
     "shell.execute_reply": "2023-10-12T13:27:20.394525Z",
     "shell.execute_reply.started": "2023-10-12T13:27:19.876642Z"
    }
   },
   "outputs": [],
   "source": [
    "data_test = data_f.copy()\n",
    "#Let's leave only the necessary columns\n",
    "data_test.drop(columns = ['step', 'nameOrig','nameDest', 'isFlaggedFraud', \n",
    "                          'New_TotalOrig', 'New_TotalDest', 'New_TotalMeanOrig',\n",
    "                          'New_TotalMeanDest', 'New_TotalSumOrig', 'New_TotalSumDest', \n",
    "                          'New_Delta_Time_Tr_Orig','New_Delta_Last_Tr_Orig', \n",
    "                          'New_Delta_Time_Tr_Dest','New_Delta_Last_Tr_Dest', \n",
    "                          'res_data', 'date', 'day_of_week', 'hour','month'], \n",
    "               inplace=True)"
   ]
  },
  {
   "cell_type": "code",
   "execution_count": null,
   "metadata": {
    "execution": {
     "iopub.execute_input": "2023-10-12T13:27:22.167748Z",
     "iopub.status.busy": "2023-10-12T13:27:22.167345Z",
     "iopub.status.idle": "2023-10-12T13:27:22.190799Z",
     "shell.execute_reply": "2023-10-12T13:27:22.189685Z",
     "shell.execute_reply.started": "2023-10-12T13:27:22.167717Z"
    }
   },
   "outputs": [],
   "source": [
    "data_test"
   ]
  },
  {
   "cell_type": "markdown",
   "metadata": {},
   "source": [
    "**Categorical Features**"
   ]
  },
  {
   "cell_type": "code",
   "execution_count": null,
   "metadata": {
    "execution": {
     "iopub.execute_input": "2023-10-12T13:27:26.595262Z",
     "iopub.status.busy": "2023-10-12T13:27:26.594847Z",
     "iopub.status.idle": "2023-10-12T13:27:26.602125Z",
     "shell.execute_reply": "2023-10-12T13:27:26.600881Z",
     "shell.execute_reply.started": "2023-10-12T13:27:26.595231Z"
    }
   },
   "outputs": [],
   "source": [
    "#printing categorical features\n",
    "print(data_test.dtypes)"
   ]
  },
  {
   "cell_type": "code",
   "execution_count": null,
   "metadata": {
    "execution": {
     "iopub.execute_input": "2023-10-12T13:27:29.228465Z",
     "iopub.status.busy": "2023-10-12T13:27:29.227781Z",
     "iopub.status.idle": "2023-10-12T13:27:31.69324Z",
     "shell.execute_reply": "2023-10-12T13:27:31.691882Z",
     "shell.execute_reply.started": "2023-10-12T13:27:29.228429Z"
    }
   },
   "outputs": [],
   "source": [
    "#since we have few unique values, we will go by the simple way of converting categorical features\n",
    "data_test = pd.get_dummies(data_test, prefix = ['type', 'New_TypeOrig', 'New_TypeDest'], drop_first = True)"
   ]
  },
  {
   "cell_type": "code",
   "execution_count": null,
   "metadata": {
    "execution": {
     "iopub.execute_input": "2023-10-12T13:27:33.814699Z",
     "iopub.status.busy": "2023-10-12T13:27:33.813303Z",
     "iopub.status.idle": "2023-10-12T13:27:33.834805Z",
     "shell.execute_reply": "2023-10-12T13:27:33.833383Z",
     "shell.execute_reply.started": "2023-10-12T13:27:33.814642Z"
    }
   },
   "outputs": [],
   "source": [
    "data_test"
   ]
  },
  {
   "cell_type": "markdown",
   "metadata": {},
   "source": [
    "# Testing"
   ]
  },
  {
   "cell_type": "markdown",
   "metadata": {},
   "source": [
    "let's try to run a test model (LogisticRegression) without special data preparation, only after pre-processing categorical features"
   ]
  },
  {
   "cell_type": "code",
   "execution_count": null,
   "metadata": {
    "execution": {
     "iopub.execute_input": "2023-10-12T13:27:44.194878Z",
     "iopub.status.busy": "2023-10-12T13:27:44.194409Z",
     "iopub.status.idle": "2023-10-12T13:27:46.540431Z",
     "shell.execute_reply": "2023-10-12T13:27:46.539184Z",
     "shell.execute_reply.started": "2023-10-12T13:27:44.194822Z"
    }
   },
   "outputs": [],
   "source": [
    "X = data_test.drop(columns=['isFraud'])\n",
    "y = data_test['isFraud']\n",
    "\n",
    "#splitting data into training and testing\n",
    "X_train, X_test, y_train, y_test = train_test_split(X, y,\n",
    "                                                    test_size=0.25,\n",
    "                                                    shuffle=True,\n",
    "                                                    random_state=42)"
   ]
  },
  {
   "cell_type": "code",
   "execution_count": null,
   "metadata": {
    "execution": {
     "iopub.execute_input": "2023-10-12T13:27:47.381744Z",
     "iopub.status.busy": "2023-10-12T13:27:47.38129Z",
     "iopub.status.idle": "2023-10-12T13:28:16.97468Z",
     "shell.execute_reply": "2023-10-12T13:28:16.973355Z",
     "shell.execute_reply.started": "2023-10-12T13:27:47.381711Z"
    }
   },
   "outputs": [],
   "source": [
    "#building LR model\n",
    "LR_model = LogisticRegression(random_state=42)\n",
    "LR_model.fit(X_train,y_train)\n",
    "LR_prediction=LR_model.predict(X_test)\n",
    "cm_LR = confusion_matrix(y_test, LR_prediction, labels=LR_model.classes_)\n",
    "disp = ConfusionMatrixDisplay(confusion_matrix=cm_LR, display_labels=LR_model.classes_)\n",
    "disp.plot()\n",
    "plt.show()"
   ]
  },
  {
   "cell_type": "code",
   "execution_count": null,
   "metadata": {
    "execution": {
     "iopub.execute_input": "2023-10-12T13:28:16.977046Z",
     "iopub.status.busy": "2023-10-12T13:28:16.976716Z",
     "iopub.status.idle": "2023-10-12T13:28:26.248815Z",
     "shell.execute_reply": "2023-10-12T13:28:26.247511Z",
     "shell.execute_reply.started": "2023-10-12T13:28:16.97702Z"
    }
   },
   "outputs": [],
   "source": [
    "cbc_model = CatBoostClassifier(iterations=20,\n",
    "                               loss_function='Logloss',\n",
    "                               verbose=True)\n",
    "cbc_model.fit(X_train, y_train)\n",
    "cbc_prediction = cbc_model.predict(X_test)\n",
    "\n",
    "cm_cbc = confusion_matrix(y_test, cbc_prediction, labels=cbc_model.classes_)\n",
    "disp = ConfusionMatrixDisplay(confusion_matrix=cm_cbc, display_labels=cbc_model.classes_)\n",
    "disp.plot()\n",
    "plt.show()"
   ]
  },
  {
   "cell_type": "code",
   "execution_count": null,
   "metadata": {
    "execution": {
     "iopub.execute_input": "2023-10-12T13:28:26.250403Z",
     "iopub.status.busy": "2023-10-12T13:28:26.2501Z",
     "iopub.status.idle": "2023-10-12T13:28:27.251516Z",
     "shell.execute_reply": "2023-10-12T13:28:27.250327Z",
     "shell.execute_reply.started": "2023-10-12T13:28:26.250378Z"
    }
   },
   "outputs": [],
   "source": [
    "#Look at the ratio of classes in the target\n",
    "print(sum(data_test['isFraud'] == 1), '- positive class')\n",
    "print(sum(data_test['isFraud'] == 0), '- negative class')"
   ]
  },
  {
   "cell_type": "markdown",
   "metadata": {},
   "source": [
    "# Oversampling and Undersampling"
   ]
  },
  {
   "cell_type": "code",
   "execution_count": null,
   "metadata": {
    "execution": {
     "iopub.execute_input": "2023-10-12T13:28:27.254777Z",
     "iopub.status.busy": "2023-10-12T13:28:27.253548Z",
     "iopub.status.idle": "2023-10-12T13:28:31.118135Z",
     "shell.execute_reply": "2023-10-12T13:28:31.117182Z",
     "shell.execute_reply.started": "2023-10-12T13:28:27.254729Z"
    }
   },
   "outputs": [],
   "source": [
    "over_sample = SMOTE(random_state=42)\n",
    "X_train_sm, y_train_sm = over_sample.fit_resample(X_train,y_train)"
   ]
  },
  {
   "cell_type": "code",
   "execution_count": null,
   "metadata": {
    "execution": {
     "iopub.execute_input": "2023-10-12T13:28:31.11967Z",
     "iopub.status.busy": "2023-10-12T13:28:31.119353Z",
     "iopub.status.idle": "2023-10-12T13:28:32.624244Z",
     "shell.execute_reply": "2023-10-12T13:28:32.62304Z",
     "shell.execute_reply.started": "2023-10-12T13:28:31.119645Z"
    }
   },
   "outputs": [],
   "source": [
    "print(sum(y_train_sm == 1), '- positive class')\n",
    "print(sum(y_train_sm == 0), '- negative class')"
   ]
  },
  {
   "cell_type": "markdown",
   "metadata": {},
   "source": [
    "let's try to run LogisticRegression with smote"
   ]
  },
  {
   "cell_type": "code",
   "execution_count": null,
   "metadata": {
    "execution": {
     "iopub.execute_input": "2023-10-12T13:28:32.627285Z",
     "iopub.status.busy": "2023-10-12T13:28:32.626372Z",
     "iopub.status.idle": "2023-10-12T13:29:07.164484Z",
     "shell.execute_reply": "2023-10-12T13:29:07.16335Z",
     "shell.execute_reply.started": "2023-10-12T13:28:32.627238Z"
    }
   },
   "outputs": [],
   "source": [
    "LR_model = LogisticRegression(random_state=42)\n",
    "LR_model.fit(X_train_sm,y_train_sm)\n",
    "LR_prediction=LR_model.predict(X_test)\n",
    "cm_LR = confusion_matrix(y_test, LR_prediction, labels=LR_model.classes_)\n",
    "disp = ConfusionMatrixDisplay(confusion_matrix=cm_LR, display_labels=LR_model.classes_)\n",
    "disp.plot()\n",
    "plt.show()"
   ]
  },
  {
   "cell_type": "markdown",
   "metadata": {},
   "source": [
    "# Model Evaluation Metrics"
   ]
  },
  {
   "cell_type": "markdown",
   "metadata": {},
   "source": [
    "**F1 score**\n",
    "The F1 score combines precision and recall into one metric, with 1 being the best score and 0 being the worst. It gives equal weight to precision and recall.\n",
    "\n",
    "**Logarithmic Loss**\n",
    "Logarithmic Loss, also known as logloss, measures how confident the classifier is in its predictions. It ranges from 0 to 1, indicating from \"not sure at all\" to \"completely sure.\" Logloss decreases significantly when the classifier is very confident but predicts incorrectly.\n",
    "\n",
    "**Brier Score**\n",
    "The Brier Score is a measure of the accuracy of probabilistic predictions, equivalent to mean squared error for predicted probabilities.\n",
    "\n",
    "**PR curve**\n",
    "The precision-recall curve shows the balance between precision and recall for different thresholds. A larger area under the curve means both high precision and high recall, indicating low false positive and false negative rates.\n",
    "\n",
    "**Confusion Matrix**\n",
    "A confusion matrix is a table that displays a classifier's accuracy across different classes. Correct predictions appear diagonally from top left to bottom right.\n"
   ]
  },
  {
   "cell_type": "code",
   "execution_count": null,
   "metadata": {
    "execution": {
     "iopub.execute_input": "2023-10-12T13:29:57.267219Z",
     "iopub.status.busy": "2023-10-12T13:29:57.266787Z",
     "iopub.status.idle": "2023-10-12T13:29:57.275802Z",
     "shell.execute_reply": "2023-10-12T13:29:57.27479Z",
     "shell.execute_reply.started": "2023-10-12T13:29:57.267183Z"
    }
   },
   "outputs": [],
   "source": [
    "def metrics_estimation(model, X_train_sm, X_test, y_train_sm, y_test, prediction, prob):\n",
    "    #We build all kinds of combinations precision, recall, threshold\n",
    "    precision, recall, thres = precision_recall_curve(y_test, prob[:, 1])\n",
    "    #We find a triple for which recall is maximum and precision > 0.6\n",
    "    ind = np.where(recall == recall[precision > 0.6].max())\n",
    "    print(f\"Precison score:\\t {precision[ind][-1]}\")\n",
    "    print(f\"Recall score: \\t {recall[ind][-1]}\")\n",
    "    print(f\"Threshold:\\t {thres[ind][-1]}\")\n",
    "\n",
    "    # calculate f1_score for binary classification problem\n",
    "    f1 = f1_score(y_test, prediction, average='binary')\n",
    "    print('F1 score: %f' % (f1))\n",
    "\n",
    "    # retrieve the probabilities for the positive class\n",
    "    prob_positive = prob[:, 1]\n",
    "\n",
    "    ###Log Loss Score\n",
    "    logloss = log_loss(y_test, prob)\n",
    "    print('Log Loss score: %f' % (logloss))\n",
    "\n",
    "    ###Brier Score\n",
    "    brier = brier_score_loss(y_test, prob_positive)\n",
    "    print('Brier score: %f' % (brier))\n",
    "    \n",
    "    return (precision[ind][-1], recall[ind][-1], f1, logloss, brier, thres[ind][-1])\n"
   ]
  },
  {
   "cell_type": "markdown",
   "metadata": {},
   "source": [
    "# Test different models"
   ]
  },
  {
   "cell_type": "markdown",
   "metadata": {},
   "source": [
    "**K-Nearest Neighbors**\n",
    "\n",
    "The k-nearest neighbors (KNN) method works by measuring the distances between the new feature and all features in the sample. It then selects the k nearest neighbors and predicts the target variable based on either voting (for classification) or averaging (for regression) among these neighbors."
   ]
  },
  {
   "cell_type": "code",
   "execution_count": null,
   "metadata": {
    "execution": {
     "iopub.execute_input": "2023-10-12T13:30:03.161769Z",
     "iopub.status.busy": "2023-10-12T13:30:03.161336Z",
     "iopub.status.idle": "2023-10-12T13:30:05.273374Z",
     "shell.execute_reply": "2023-10-12T13:30:05.272373Z",
     "shell.execute_reply.started": "2023-10-12T13:30:03.161735Z"
    }
   },
   "outputs": [],
   "source": [
    "scaler = StandardScaler()\n",
    "Xsc_train = scaler.fit_transform(X_train_sm)\n",
    "Xsc_test = scaler.transform(X_test)"
   ]
  },
  {
   "cell_type": "code",
   "execution_count": null,
   "metadata": {
    "execution": {
     "iopub.execute_input": "2023-10-12T13:30:05.368737Z",
     "iopub.status.busy": "2023-10-12T13:30:05.367719Z",
     "iopub.status.idle": "2023-10-12T13:48:03.379443Z",
     "shell.execute_reply": "2023-10-12T13:48:03.377828Z",
     "shell.execute_reply.started": "2023-10-12T13:30:05.368691Z"
    }
   },
   "outputs": [],
   "source": [
    "knn_model = KNeighborsClassifier(n_neighbors=5)\n",
    "knn_model.fit(Xsc_train, y_train_sm)\n",
    "knn_prediction = knn_model.predict(Xsc_test)\n",
    "knn_prob = knn_model.predict_proba(Xsc_test)"
   ]
  },
  {
   "cell_type": "code",
   "execution_count": null,
   "metadata": {
    "execution": {
     "iopub.execute_input": "2023-10-12T13:48:03.381975Z",
     "iopub.status.busy": "2023-10-12T13:48:03.381521Z",
     "iopub.status.idle": "2023-10-12T13:48:04.556941Z",
     "shell.execute_reply": "2023-10-12T13:48:04.556015Z",
     "shell.execute_reply.started": "2023-10-12T13:48:03.38193Z"
    }
   },
   "outputs": [],
   "source": [
    "def metrics_estimation_for_knn(model, X_train_sm, X_test, y_train_sm, y_test, prediction, prob):\n",
    "    #We build all kinds of combinations precision, recall, threshold\n",
    "    precision, recall, thres = precision_recall_curve(y_test, prob[:, 1])\n",
    "    #We find a triple for which recall is maximum and precision > 0.6\n",
    "    ind = np.where(recall == recall[precision > 0.6].max())\n",
    "    print(f\"Precison score:\\t {precision[ind][-1]}\")\n",
    "    print(f\"Recall score: \\t {recall[ind][-1]}\")\n",
    "\n",
    "    # calculate f1_score for binary classification problem\n",
    "    f1 = f1_score(y_test, prediction, average='binary')\n",
    "    print('F1 score: %f' % (f1))\n",
    "\n",
    "    # retrieve the probabilities for the positive class\n",
    "    prob_positive = prob[:, 1]\n",
    "\n",
    "    ###Log Loss Score\n",
    "    logloss = log_loss(y_test, prob)\n",
    "    print('Log Loss score: %f' % (logloss))\n",
    "\n",
    "    ###Brier Score\n",
    "    brier = brier_score_loss(y_test, prob_positive)\n",
    "    print('Brier score: %f' % (brier))\n",
    "    \n",
    "    return (precision[ind][-1], recall[ind][-1], f1, logloss, brier)\n",
    "\n",
    "list_metrics_knn = metrics_estimation_for_knn(knn_model, Xsc_train, Xsc_test, y_train_sm, y_test, knn_prediction, knn_prob)"
   ]
  },
  {
   "cell_type": "markdown",
   "metadata": {},
   "source": [
    "Area Under the Precision-Recall curve"
   ]
  },
  {
   "cell_type": "code",
   "execution_count": null,
   "metadata": {
    "execution": {
     "iopub.execute_input": "2023-10-12T13:48:04.558726Z",
     "iopub.status.busy": "2023-10-12T13:48:04.558239Z",
     "iopub.status.idle": "2023-10-12T13:48:07.120175Z",
     "shell.execute_reply": "2023-10-12T13:48:07.119114Z",
     "shell.execute_reply.started": "2023-10-12T13:48:04.558697Z"
    }
   },
   "outputs": [],
   "source": [
    "# retrieve the probabilities for the positive class\n",
    "knn_prob_positive = knn_prob[:, 1]\n",
    "\n",
    "# calculate the no skill line as the proportion of the positive class\n",
    "no_skill = len((y_train_sm[y_train_sm==1])+(y_test[y_test==1])) / len(y_train_sm + y_test)\n",
    "# plot the no skill precision-recall curve\n",
    "plt.plot([0, 1], [no_skill, no_skill], linestyle='--', label='No Skill')\n",
    "\n",
    "# calculate inputs for the PR curve\n",
    "precision, recall, thresholds = precision_recall_curve(y_test, knn_prob_positive)\n",
    "\n",
    "# plot PR curve\n",
    "plt.plot(recall, precision, marker='.', label='Logistic')\n",
    "# axis labels\n",
    "plt.xlabel('Recall')\n",
    "plt.ylabel('Precision')\n",
    "# show the legend\n",
    "plt.legend()\n",
    "plt.show()\n",
    "\n",
    "# calculate and print PR AUC\n",
    "auc_pr = auc(recall, precision)\n",
    "print('AUC PR: %.3f' % auc_pr)"
   ]
  },
  {
   "cell_type": "code",
   "execution_count": null,
   "metadata": {
    "execution": {
     "iopub.execute_input": "2023-10-12T13:48:07.12283Z",
     "iopub.status.busy": "2023-10-12T13:48:07.122381Z",
     "iopub.status.idle": "2023-10-12T13:48:07.539652Z",
     "shell.execute_reply": "2023-10-12T13:48:07.538354Z",
     "shell.execute_reply.started": "2023-10-12T13:48:07.122801Z"
    }
   },
   "outputs": [],
   "source": [
    "#confusion matrix\n",
    "cm = confusion_matrix(y_test, knn_prediction, labels=knn_model.classes_)\n",
    "disp = ConfusionMatrixDisplay(confusion_matrix=cm, display_labels=knn_model.classes_)\n",
    "disp.plot()\n",
    "plt.show()"
   ]
  },
  {
   "cell_type": "code",
   "execution_count": null,
   "metadata": {
    "execution": {
     "iopub.execute_input": "2023-10-12T13:48:07.541446Z",
     "iopub.status.busy": "2023-10-12T13:48:07.541107Z",
     "iopub.status.idle": "2023-10-12T13:48:10.168161Z",
     "shell.execute_reply": "2023-10-12T13:48:10.166906Z",
     "shell.execute_reply.started": "2023-10-12T13:48:07.541419Z"
    }
   },
   "outputs": [],
   "source": [
    "print(classification_report(knn_prediction, y_test))"
   ]
  },
  {
   "cell_type": "markdown",
   "metadata": {},
   "source": [
    "**Random Forests**\n",
    "\n"
   ]
  },
  {
   "cell_type": "code",
   "execution_count": null,
   "metadata": {
    "execution": {
     "iopub.execute_input": "2023-10-12T13:54:50.110813Z",
     "iopub.status.busy": "2023-10-12T13:54:50.110347Z",
     "iopub.status.idle": "2023-10-12T14:03:58.157058Z",
     "shell.execute_reply": "2023-10-12T14:03:58.156016Z",
     "shell.execute_reply.started": "2023-10-12T13:54:50.110777Z"
    }
   },
   "outputs": [],
   "source": [
    "rf_model = RandomForestClassifier(n_estimators=100, max_depth=2, random_state=0)\n",
    "rf_model.fit(Xsc_train, y_train_sm)\n",
    "rf_prediction = rf_model.predict(Xsc_test)\n",
    "rf_prob = rf_model.predict_proba(Xsc_test)"
   ]
  },
  {
   "cell_type": "code",
   "execution_count": null,
   "metadata": {
    "execution": {
     "iopub.execute_input": "2023-10-12T14:03:58.159496Z",
     "iopub.status.busy": "2023-10-12T14:03:58.159116Z",
     "iopub.status.idle": "2023-10-12T14:03:59.535911Z",
     "shell.execute_reply": "2023-10-12T14:03:59.534411Z",
     "shell.execute_reply.started": "2023-10-12T14:03:58.159468Z"
    }
   },
   "outputs": [],
   "source": [
    "list_metrics_rf = metrics_estimation(rf_model, Xsc_train, Xsc_test, y_train_sm, y_test, rf_prediction, rf_prob)"
   ]
  },
  {
   "cell_type": "code",
   "execution_count": null,
   "metadata": {
    "execution": {
     "iopub.execute_input": "2023-10-12T14:03:59.537617Z",
     "iopub.status.busy": "2023-10-12T14:03:59.537254Z",
     "iopub.status.idle": "2023-10-12T14:04:02.486076Z",
     "shell.execute_reply": "2023-10-12T14:04:02.484897Z",
     "shell.execute_reply.started": "2023-10-12T14:03:59.537556Z"
    }
   },
   "outputs": [],
   "source": [
    "# retrieve the probabilities for the positive class\n",
    "rf_prob_positive = rf_prob[:, 1]\n",
    "\n",
    "# calculate the no skill line as the proportion of the positive class\n",
    "no_skill = len((y_train_sm[y_train_sm==1])+(y_test[y_test==1])) / len(y_train_sm + y_test)\n",
    "# plot the no skill precision-recall curve\n",
    "plt.plot([0, 1], [no_skill, no_skill], linestyle='--', label='No Skill')\n",
    "\n",
    "# calculate inputs for the PR curve\n",
    "precision, recall, thresholds = precision_recall_curve(y_test, rf_prob_positive)\n",
    "\n",
    "# plot PR curve\n",
    "plt.plot(recall, precision, marker='.', label='Logistic')\n",
    "# axis labels\n",
    "plt.xlabel('Recall')\n",
    "plt.ylabel('Precision')\n",
    "# show the legend\n",
    "plt.legend()\n",
    "plt.show()\n",
    "\n",
    "# calculate and print PR AUC\n",
    "auc_pr = auc(recall, precision)\n",
    "print('AUC PR: %.3f' % auc_pr)"
   ]
  },
  {
   "cell_type": "code",
   "execution_count": null,
   "metadata": {
    "execution": {
     "iopub.execute_input": "2023-10-12T14:04:02.489453Z",
     "iopub.status.busy": "2023-10-12T14:04:02.488942Z",
     "iopub.status.idle": "2023-10-12T14:04:02.97382Z",
     "shell.execute_reply": "2023-10-12T14:04:02.972829Z",
     "shell.execute_reply.started": "2023-10-12T14:04:02.489408Z"
    }
   },
   "outputs": [],
   "source": [
    "cm_rf = confusion_matrix(y_test, rf_prediction, labels=rf_model.classes_)\n",
    "disp = ConfusionMatrixDisplay(confusion_matrix=cm_rf, display_labels=rf_model.classes_)\n",
    "disp.plot()\n",
    "plt.show()"
   ]
  },
  {
   "cell_type": "code",
   "execution_count": null,
   "metadata": {
    "execution": {
     "iopub.execute_input": "2023-10-12T14:04:02.97654Z",
     "iopub.status.busy": "2023-10-12T14:04:02.97529Z",
     "iopub.status.idle": "2023-10-12T14:04:05.812676Z",
     "shell.execute_reply": "2023-10-12T14:04:05.81148Z",
     "shell.execute_reply.started": "2023-10-12T14:04:02.976492Z"
    }
   },
   "outputs": [],
   "source": [
    "print(classification_report(rf_prediction, y_test))"
   ]
  },
  {
   "cell_type": "markdown",
   "metadata": {},
   "source": [
    "**Decision Tree Classifier**"
   ]
  },
  {
   "cell_type": "code",
   "execution_count": null,
   "metadata": {
    "execution": {
     "iopub.execute_input": "2023-10-12T14:04:18.174168Z",
     "iopub.status.busy": "2023-10-12T14:04:18.173751Z",
     "iopub.status.idle": "2023-10-12T14:05:42.56488Z",
     "shell.execute_reply": "2023-10-12T14:05:42.563571Z",
     "shell.execute_reply.started": "2023-10-12T14:04:18.174138Z"
    }
   },
   "outputs": [],
   "source": [
    "dtc_model=DecisionTreeClassifier(random_state=42)\n",
    "dtc_model.fit(Xsc_train,y_train_sm)\n",
    "dtc_prediction=dtc_model.predict(Xsc_test)\n",
    "dtc_prob = dtc_model.predict_proba(Xsc_test)"
   ]
  },
  {
   "cell_type": "code",
   "execution_count": null,
   "metadata": {
    "execution": {
     "iopub.execute_input": "2023-10-12T14:05:42.567205Z",
     "iopub.status.busy": "2023-10-12T14:05:42.566744Z",
     "iopub.status.idle": "2023-10-12T14:05:43.712664Z",
     "shell.execute_reply": "2023-10-12T14:05:43.711699Z",
     "shell.execute_reply.started": "2023-10-12T14:05:42.567175Z"
    }
   },
   "outputs": [],
   "source": [
    "list_metrics_dtc = metrics_estimation(dtc_model, Xsc_train, Xsc_test, y_train_sm, y_test, dtc_prediction, dtc_prob)"
   ]
  },
  {
   "cell_type": "code",
   "execution_count": null,
   "metadata": {
    "execution": {
     "iopub.execute_input": "2023-10-12T14:05:43.714918Z",
     "iopub.status.busy": "2023-10-12T14:05:43.713872Z",
     "iopub.status.idle": "2023-10-12T14:05:46.147023Z",
     "shell.execute_reply": "2023-10-12T14:05:46.145809Z",
     "shell.execute_reply.started": "2023-10-12T14:05:43.714874Z"
    }
   },
   "outputs": [],
   "source": [
    "# retrieve the probabilities for the positive class\n",
    "dtc_prob_positive = dtc_prob[:, 1]\n",
    "\n",
    "# calculate the no skill line as the proportion of the positive class\n",
    "no_skill = len((y_train_sm[y_train_sm==1])+(y_test[y_test==1])) / len(y_train_sm + y_test)\n",
    "# plot the no skill precision-recall curve\n",
    "plt.plot([0, 1], [no_skill, no_skill], linestyle='--', label='No Skill')\n",
    "\n",
    "# calculate inputs for the PR curve\n",
    "precision, recall, thresholds = precision_recall_curve(y_test, dtc_prob_positive)\n",
    "\n",
    "# plot PR curve\n",
    "plt.plot(recall, precision, marker='.', label='Logistic')\n",
    "# axis labels\n",
    "plt.xlabel('Recall')\n",
    "plt.ylabel('Precision')\n",
    "# show the legend\n",
    "plt.legend()\n",
    "plt.show()\n",
    "\n",
    "# calculate and print PR AUC\n",
    "auc_pr = auc(recall, precision)\n",
    "print('AUC PR: %.3f' % auc_pr)"
   ]
  },
  {
   "cell_type": "code",
   "execution_count": null,
   "metadata": {
    "execution": {
     "iopub.execute_input": "2023-10-12T14:05:46.149449Z",
     "iopub.status.busy": "2023-10-12T14:05:46.149101Z",
     "iopub.status.idle": "2023-10-12T14:05:46.593958Z",
     "shell.execute_reply": "2023-10-12T14:05:46.593193Z",
     "shell.execute_reply.started": "2023-10-12T14:05:46.14942Z"
    }
   },
   "outputs": [],
   "source": [
    "cm_dtc = confusion_matrix(y_test, dtc_prediction, labels=dtc_model.classes_)\n",
    "disp = ConfusionMatrixDisplay(confusion_matrix=cm_dtc, display_labels=dtc_model.classes_)\n",
    "disp.plot()\n",
    "plt.show()"
   ]
  },
  {
   "cell_type": "code",
   "execution_count": null,
   "metadata": {
    "execution": {
     "iopub.execute_input": "2023-10-12T14:05:46.595859Z",
     "iopub.status.busy": "2023-10-12T14:05:46.594996Z",
     "iopub.status.idle": "2023-10-12T14:05:49.257547Z",
     "shell.execute_reply": "2023-10-12T14:05:49.256158Z",
     "shell.execute_reply.started": "2023-10-12T14:05:46.595813Z"
    }
   },
   "outputs": [],
   "source": [
    "print(classification_report(dtc_prediction, y_test))"
   ]
  },
  {
   "cell_type": "markdown",
   "metadata": {},
   "source": [
    "**Linear Discriminant Analysis**\n",
    "\n",
    "This approach operates by decreasing the data set's dimensionality through projecting all data points onto a line. It then groups these points into classes according to their distance from the central point."
   ]
  },
  {
   "cell_type": "code",
   "execution_count": null,
   "metadata": {
    "execution": {
     "iopub.execute_input": "2023-10-12T14:07:44.569489Z",
     "iopub.status.busy": "2023-10-12T14:07:44.569008Z",
     "iopub.status.idle": "2023-10-12T14:08:03.279641Z",
     "shell.execute_reply": "2023-10-12T14:08:03.277996Z",
     "shell.execute_reply.started": "2023-10-12T14:07:44.569453Z"
    }
   },
   "outputs": [],
   "source": [
    "lda_model = LinearDiscriminantAnalysis()\n",
    "lda_model.fit(Xsc_train,y_train_sm)\n",
    "lda_prediction=lda_model.predict(Xsc_test)\n",
    "lda_prob = lda_model.predict_proba(Xsc_test)"
   ]
  },
  {
   "cell_type": "code",
   "execution_count": null,
   "metadata": {
    "execution": {
     "iopub.execute_input": "2023-10-12T14:08:03.284851Z",
     "iopub.status.busy": "2023-10-12T14:08:03.283055Z",
     "iopub.status.idle": "2023-10-12T14:08:05.043517Z",
     "shell.execute_reply": "2023-10-12T14:08:05.042204Z",
     "shell.execute_reply.started": "2023-10-12T14:08:03.284779Z"
    }
   },
   "outputs": [],
   "source": [
    "list_metrics_lda = metrics_estimation(lda_model, Xsc_train, Xsc_test, y_train_sm, y_test, lda_prediction, lda_prob)"
   ]
  },
  {
   "cell_type": "code",
   "execution_count": null,
   "metadata": {
    "execution": {
     "iopub.execute_input": "2023-10-12T14:08:05.046618Z",
     "iopub.status.busy": "2023-10-12T14:08:05.045266Z",
     "iopub.status.idle": "2023-10-12T14:08:10.587494Z",
     "shell.execute_reply": "2023-10-12T14:08:10.58634Z",
     "shell.execute_reply.started": "2023-10-12T14:08:05.046534Z"
    }
   },
   "outputs": [],
   "source": [
    "# retrieve the probabilities for the positive class\n",
    "lda_prob_positive = lda_prob[:, 1]\n",
    "\n",
    "# calculate the no skill line as the proportion of the positive class\n",
    "no_skill = len((y_train_sm[y_train_sm==1])+(y_test[y_test==1])) / len(y_train_sm + y_test)\n",
    "# plot the no skill precision-recall curve\n",
    "plt.plot([0, 1], [no_skill, no_skill], linestyle='--', label='No Skill')\n",
    "\n",
    "# calculate inputs for the PR curve\n",
    "precision, recall, thresholds = precision_recall_curve(y_test, lda_prob_positive)\n",
    "\n",
    "# plot PR curve\n",
    "plt.plot(recall, precision, marker='.', label='Logistic')\n",
    "# axis labels\n",
    "plt.xlabel('Recall')\n",
    "plt.ylabel('Precision')\n",
    "# show the legend\n",
    "plt.legend()\n",
    "plt.show()\n",
    "\n",
    "# calculate and print PR AUC\n",
    "auc_pr = auc(recall, precision)\n",
    "print('AUC PR: %.3f' % auc_pr)"
   ]
  },
  {
   "cell_type": "code",
   "execution_count": null,
   "metadata": {
    "execution": {
     "iopub.execute_input": "2023-10-12T14:08:10.59137Z",
     "iopub.status.busy": "2023-10-12T14:08:10.590544Z",
     "iopub.status.idle": "2023-10-12T14:08:11.046813Z",
     "shell.execute_reply": "2023-10-12T14:08:11.045668Z",
     "shell.execute_reply.started": "2023-10-12T14:08:10.591325Z"
    }
   },
   "outputs": [],
   "source": [
    "cm_lda = confusion_matrix(y_test, lda_prediction, labels=lda_model.classes_)\n",
    "disp = ConfusionMatrixDisplay(confusion_matrix=cm_lda, display_labels=lda_model.classes_)\n",
    "disp.plot()\n",
    "plt.show()"
   ]
  },
  {
   "cell_type": "code",
   "execution_count": null,
   "metadata": {
    "execution": {
     "iopub.execute_input": "2023-10-12T14:08:11.048797Z",
     "iopub.status.busy": "2023-10-12T14:08:11.048331Z",
     "iopub.status.idle": "2023-10-12T14:08:14.083633Z",
     "shell.execute_reply": "2023-10-12T14:08:14.082405Z",
     "shell.execute_reply.started": "2023-10-12T14:08:11.048755Z"
    }
   },
   "outputs": [],
   "source": [
    "print(classification_report(lda_prediction, y_test))"
   ]
  },
  {
   "cell_type": "markdown",
   "metadata": {},
   "source": [
    "**Logistic Regression**\n",
    "\n",
    "Logistic regression produces predictions that fall on a binary scale of zero or one. When the predicted value is 0.5 or higher, the object is classified as one, and when it's below 0.5, it's classified as zero. Each feature in logistic regression is associated with a label of either 0 or 1. This method is suitable for data with a linear relationship, making it a useful tool for linear classification tasks."
   ]
  },
  {
   "cell_type": "code",
   "execution_count": null,
   "metadata": {
    "execution": {
     "iopub.execute_input": "2023-10-12T14:08:14.085823Z",
     "iopub.status.busy": "2023-10-12T14:08:14.085343Z",
     "iopub.status.idle": "2023-10-12T14:09:12.097544Z",
     "shell.execute_reply": "2023-10-12T14:09:12.095915Z",
     "shell.execute_reply.started": "2023-10-12T14:08:14.08578Z"
    }
   },
   "outputs": [],
   "source": [
    "lr_model = LogisticRegression(random_state=42)\n",
    "lr_model.fit(Xsc_train,y_train_sm)\n",
    "lr_prediction=lr_model.predict(Xsc_test)\n",
    "lr_prob = lr_model.predict_proba(Xsc_test)"
   ]
  },
  {
   "cell_type": "code",
   "execution_count": null,
   "metadata": {
    "execution": {
     "iopub.execute_input": "2023-10-12T14:09:12.107951Z",
     "iopub.status.busy": "2023-10-12T14:09:12.106686Z",
     "iopub.status.idle": "2023-10-12T14:09:13.561077Z",
     "shell.execute_reply": "2023-10-12T14:09:13.559996Z",
     "shell.execute_reply.started": "2023-10-12T14:09:12.107887Z"
    }
   },
   "outputs": [],
   "source": [
    "list_metrics_lr = metrics_estimation(lr_model, Xsc_train, Xsc_test, y_train_sm, y_test, lr_prediction, lr_prob)"
   ]
  },
  {
   "cell_type": "code",
   "execution_count": null,
   "metadata": {
    "execution": {
     "iopub.execute_input": "2023-10-12T14:09:13.563409Z",
     "iopub.status.busy": "2023-10-12T14:09:13.562973Z",
     "iopub.status.idle": "2023-10-12T14:09:18.937753Z",
     "shell.execute_reply": "2023-10-12T14:09:18.93664Z",
     "shell.execute_reply.started": "2023-10-12T14:09:13.563368Z"
    }
   },
   "outputs": [],
   "source": [
    "# retrieve the probabilities for the positive class\n",
    "lr_prob_positive = lr_prob[:, 1]\n",
    "\n",
    "# calculate the no skill line as the proportion of the positive class\n",
    "no_skill = len((y_train_sm[y_train_sm==1])+(y_test[y_test==1])) / len(y_train_sm + y_test)\n",
    "# plot the no skill precision-recall curve\n",
    "plt.plot([0, 1], [no_skill, no_skill], linestyle='--', label='No Skill')\n",
    "\n",
    "# calculate inputs for the PR curve\n",
    "precision, recall, thresholds = precision_recall_curve(y_test, lr_prob_positive)\n",
    "\n",
    "# plot PR curve\n",
    "plt.plot(recall, precision, marker='.', label='Logistic')\n",
    "# axis labels\n",
    "plt.xlabel('Recall')\n",
    "plt.ylabel('Precision')\n",
    "# show the legend\n",
    "plt.legend()\n",
    "plt.show()\n",
    "\n",
    "# calculate and print PR AUC\n",
    "auc_pr = auc(recall, precision)\n",
    "print('AUC PR: %.3f' % auc_pr)"
   ]
  },
  {
   "cell_type": "code",
   "execution_count": null,
   "metadata": {
    "execution": {
     "iopub.execute_input": "2023-10-12T14:09:18.939508Z",
     "iopub.status.busy": "2023-10-12T14:09:18.939178Z",
     "iopub.status.idle": "2023-10-12T14:09:19.397959Z",
     "shell.execute_reply": "2023-10-12T14:09:19.396791Z",
     "shell.execute_reply.started": "2023-10-12T14:09:18.939481Z"
    }
   },
   "outputs": [],
   "source": [
    "cm_lr = confusion_matrix(y_test, lr_prediction, labels=lr_model.classes_)\n",
    "disp = ConfusionMatrixDisplay(confusion_matrix=cm_lr, display_labels=lr_model.classes_)\n",
    "disp.plot()\n",
    "plt.show()"
   ]
  },
  {
   "cell_type": "code",
   "execution_count": null,
   "metadata": {
    "execution": {
     "iopub.execute_input": "2023-10-12T14:09:19.402002Z",
     "iopub.status.busy": "2023-10-12T14:09:19.401524Z",
     "iopub.status.idle": "2023-10-12T14:09:22.173217Z",
     "shell.execute_reply": "2023-10-12T14:09:22.17204Z",
     "shell.execute_reply.started": "2023-10-12T14:09:19.401957Z"
    }
   },
   "outputs": [],
   "source": [
    "print(classification_report(lr_prediction, y_test))"
   ]
  },
  {
   "cell_type": "markdown",
   "metadata": {},
   "source": [
    "**Neural Networks**\n",
    "\n",
    "Neural Networks are a type of machine learning algorithm that utilizes multiple hidden layers consisting of interconnected neurons with activation functions. This approach mimics a simplified model of the brain's functionality to analyze and make predictions based on data."
   ]
  },
  {
   "cell_type": "code",
   "execution_count": null,
   "metadata": {
    "execution": {
     "iopub.execute_input": "2023-10-12T14:09:27.406578Z",
     "iopub.status.busy": "2023-10-12T14:09:27.406177Z",
     "iopub.status.idle": "2023-10-12T14:23:05.741271Z",
     "shell.execute_reply": "2023-10-12T14:23:05.738814Z",
     "shell.execute_reply.started": "2023-10-12T14:09:27.406547Z"
    }
   },
   "outputs": [],
   "source": [
    "nn_model = MLPClassifier(solver='lbfgs', alpha=1e-5,\n",
    "                         hidden_layer_sizes=(5, 2), random_state=1)\n",
    "nn_model.fit(Xsc_train,y_train_sm)\n",
    "nn_prediction = nn_model.predict(Xsc_test)\n",
    "nn_prob = nn_model.predict_proba(Xsc_test)"
   ]
  },
  {
   "cell_type": "code",
   "execution_count": null,
   "metadata": {
    "execution": {
     "iopub.execute_input": "2023-10-12T14:23:05.748707Z",
     "iopub.status.busy": "2023-10-12T14:23:05.747254Z",
     "iopub.status.idle": "2023-10-12T14:23:07.022181Z",
     "shell.execute_reply": "2023-10-12T14:23:07.020984Z",
     "shell.execute_reply.started": "2023-10-12T14:23:05.74862Z"
    }
   },
   "outputs": [],
   "source": [
    "list_metrics_nn = metrics_estimation(nn_model, Xsc_train, Xsc_test, y_train_sm, y_test, nn_prediction, nn_prob)"
   ]
  },
  {
   "cell_type": "code",
   "execution_count": null,
   "metadata": {
    "execution": {
     "iopub.execute_input": "2023-10-12T14:23:07.024515Z",
     "iopub.status.busy": "2023-10-12T14:23:07.024015Z",
     "iopub.status.idle": "2023-10-12T14:23:10.62381Z",
     "shell.execute_reply": "2023-10-12T14:23:10.62253Z",
     "shell.execute_reply.started": "2023-10-12T14:23:07.024472Z"
    }
   },
   "outputs": [],
   "source": [
    "# retrieve the probabilities for the positive class\n",
    "nn_prob_positive = nn_prob[:, 1]\n",
    "\n",
    "# calculate the no skill line as the proportion of the positive class\n",
    "no_skill = len((y_train_sm[y_train_sm==1])+(y_test[y_test==1])) / len(y_train_sm + y_test)\n",
    "# plot the no skill precision-recall curve\n",
    "plt.plot([0, 1], [no_skill, no_skill], linestyle='--', label='No Skill')\n",
    "\n",
    "# calculate inputs for the PR curve\n",
    "precision, recall, thresholds = precision_recall_curve(y_test, nn_prob_positive)\n",
    "\n",
    "# plot PR curve\n",
    "plt.plot(recall, precision, marker='.', label='Logistic')\n",
    "# axis labels\n",
    "plt.xlabel('Recall')\n",
    "plt.ylabel('Precision')\n",
    "# show the legend\n",
    "plt.legend()\n",
    "plt.show()\n",
    "\n",
    "# calculate and print PR AUC\n",
    "auc_pr = auc(recall, precision)\n",
    "print('AUC PR: %.3f' % auc_pr)"
   ]
  },
  {
   "cell_type": "code",
   "execution_count": null,
   "metadata": {
    "execution": {
     "iopub.execute_input": "2023-10-12T14:23:10.627355Z",
     "iopub.status.busy": "2023-10-12T14:23:10.626873Z",
     "iopub.status.idle": "2023-10-12T14:23:11.077117Z",
     "shell.execute_reply": "2023-10-12T14:23:11.076311Z",
     "shell.execute_reply.started": "2023-10-12T14:23:10.627312Z"
    }
   },
   "outputs": [],
   "source": [
    "cm_nn = confusion_matrix(y_test, nn_prediction, labels=nn_model.classes_)\n",
    "disp = ConfusionMatrixDisplay(confusion_matrix=cm_nn, display_labels=nn_model.classes_)\n",
    "disp.plot()\n",
    "plt.show()"
   ]
  },
  {
   "cell_type": "code",
   "execution_count": null,
   "metadata": {
    "execution": {
     "iopub.execute_input": "2023-10-12T14:23:11.079048Z",
     "iopub.status.busy": "2023-10-12T14:23:11.078381Z",
     "iopub.status.idle": "2023-10-12T14:23:13.789906Z",
     "shell.execute_reply": "2023-10-12T14:23:13.788846Z",
     "shell.execute_reply.started": "2023-10-12T14:23:11.079017Z"
    }
   },
   "outputs": [],
   "source": [
    "print(classification_report(nn_prediction, y_test))"
   ]
  },
  {
   "cell_type": "markdown",
   "metadata": {},
   "source": [
    "**XGBoost**\n",
    "\n",
    "XGBoost stands for \"Extreme Gradient Boosting,\" which is a powerful gradient boosting algorithm that employs decision trees as its base model. It is renowned for its robustness and accuracy in making predictions, making it one of the strongest machine learning algorithms available."
   ]
  },
  {
   "cell_type": "code",
   "execution_count": null,
   "metadata": {
    "execution": {
     "iopub.execute_input": "2023-10-12T14:23:23.310731Z",
     "iopub.status.busy": "2023-10-12T14:23:23.310238Z",
     "iopub.status.idle": "2023-10-12T14:29:30.256817Z",
     "shell.execute_reply": "2023-10-12T14:29:30.255688Z",
     "shell.execute_reply.started": "2023-10-12T14:23:23.31069Z"
    }
   },
   "outputs": [],
   "source": [
    "xgb_model = XGBClassifier(learning_rate=0.1,random_state=42)\n",
    "xgb_model.fit(Xsc_train, y_train_sm)\n",
    "xgb_prediction = xgb_model.predict(Xsc_test)\n",
    "xgb_prob = xgb_model.predict_proba(Xsc_test)"
   ]
  },
  {
   "cell_type": "code",
   "execution_count": null,
   "metadata": {
    "execution": {
     "iopub.execute_input": "2023-10-12T14:29:30.264167Z",
     "iopub.status.busy": "2023-10-12T14:29:30.259048Z",
     "iopub.status.idle": "2023-10-12T14:29:31.592966Z",
     "shell.execute_reply": "2023-10-12T14:29:31.591392Z",
     "shell.execute_reply.started": "2023-10-12T14:29:30.264121Z"
    }
   },
   "outputs": [],
   "source": [
    "list_metrics_xgb = metrics_estimation(xgb_model, Xsc_train, Xsc_test, y_train_sm, y_test, xgb_prediction, xgb_prob)"
   ]
  },
  {
   "cell_type": "code",
   "execution_count": null,
   "metadata": {
    "execution": {
     "iopub.execute_input": "2023-10-12T14:29:31.595926Z",
     "iopub.status.busy": "2023-10-12T14:29:31.594747Z",
     "iopub.status.idle": "2023-10-12T14:29:34.671508Z",
     "shell.execute_reply": "2023-10-12T14:29:34.670577Z",
     "shell.execute_reply.started": "2023-10-12T14:29:31.595888Z"
    }
   },
   "outputs": [],
   "source": [
    "# retrieve the probabilities for the positive class\n",
    "xgb_prob_positive = xgb_prob[:, 1]\n",
    "\n",
    "# calculate the no skill line as the proportion of the positive class\n",
    "no_skill = len((y_train_sm[y_train_sm==1])+(y_test[y_test==1])) / len(y_train_sm + y_test)\n",
    "# plot the no skill precision-recall curve\n",
    "plt.plot([0, 1], [no_skill, no_skill], linestyle='--', label='No Skill')\n",
    "\n",
    "# calculate inputs for the PR curve\n",
    "precision, recall, thresholds = precision_recall_curve(y_test, xgb_prob_positive)\n",
    "\n",
    "# plot PR curve\n",
    "plt.plot(recall, precision, marker='.', label='Logistic')\n",
    "# axis labels\n",
    "plt.xlabel('Recall')\n",
    "plt.ylabel('Precision')\n",
    "# show the legend\n",
    "plt.legend()\n",
    "plt.show()\n",
    "\n",
    "# calculate and print PR AUC\n",
    "auc_pr = auc(recall, precision)\n",
    "print('AUC PR: %.3f' % auc_pr)"
   ]
  },
  {
   "cell_type": "code",
   "execution_count": null,
   "metadata": {
    "execution": {
     "iopub.execute_input": "2023-10-12T14:29:34.673867Z",
     "iopub.status.busy": "2023-10-12T14:29:34.67348Z",
     "iopub.status.idle": "2023-10-12T14:29:35.126023Z",
     "shell.execute_reply": "2023-10-12T14:29:35.124834Z",
     "shell.execute_reply.started": "2023-10-12T14:29:34.673836Z"
    }
   },
   "outputs": [],
   "source": [
    "#confusion matrix\n",
    "cm = confusion_matrix(y_test, xgb_prediction, labels=xgb_model.classes_)\n",
    "disp = ConfusionMatrixDisplay(confusion_matrix=cm, display_labels=xgb_model.classes_)\n",
    "disp.plot()\n",
    "plt.show()"
   ]
  },
  {
   "cell_type": "code",
   "execution_count": null,
   "metadata": {
    "execution": {
     "iopub.execute_input": "2023-10-12T14:29:35.12797Z",
     "iopub.status.busy": "2023-10-12T14:29:35.127631Z",
     "iopub.status.idle": "2023-10-12T14:29:37.745519Z",
     "shell.execute_reply": "2023-10-12T14:29:37.744192Z",
     "shell.execute_reply.started": "2023-10-12T14:29:35.127943Z"
    }
   },
   "outputs": [],
   "source": [
    "print(classification_report(xgb_prediction, y_test))"
   ]
  },
  {
   "cell_type": "code",
   "execution_count": null,
   "metadata": {
    "execution": {
     "iopub.execute_input": "2023-10-12T14:29:37.747356Z",
     "iopub.status.busy": "2023-10-12T14:29:37.74703Z",
     "iopub.status.idle": "2023-10-12T14:29:38.118968Z",
     "shell.execute_reply": "2023-10-12T14:29:38.117658Z",
     "shell.execute_reply.started": "2023-10-12T14:29:37.747326Z"
    }
   },
   "outputs": [],
   "source": [
    "#The XGBoost library provides a built-in function to plot features ordered by their importance.\n",
    "from xgboost import plot_importance\n",
    "# plot feature importance\n",
    "plot_importance(xgb_model)"
   ]
  },
  {
   "cell_type": "markdown",
   "metadata": {},
   "source": [
    "**LightGBM**\n",
    "\n",
    "LightGBM is an advanced gradient boosting algorithm that is specifically engineered to be quicker and more efficient compared to other boosting algorithms. It has earned a reputation for being the fastest gradient boosting method while requiring minimal RAM usage. LightGBM achieves its speed and efficiency by constructing trees in a leaf-wise manner rather than level-wise, which is the approach taken by algorithms like XGBoost. This means that LightGBM splits one node at a time instead of an entire level of nodes at the same depth, resulting in a significant speed boost."
   ]
  },
  {
   "cell_type": "code",
   "execution_count": null,
   "metadata": {
    "execution": {
     "iopub.execute_input": "2023-10-12T14:30:49.37225Z",
     "iopub.status.busy": "2023-10-12T14:30:49.37176Z",
     "iopub.status.idle": "2023-10-12T14:31:44.504495Z",
     "shell.execute_reply": "2023-10-12T14:31:44.503395Z",
     "shell.execute_reply.started": "2023-10-12T14:30:49.372213Z"
    }
   },
   "outputs": [],
   "source": [
    "lgbm_model = LGBMClassifier()\n",
    "lgbm_model.fit(Xsc_train, y_train_sm)\n",
    "lgbm_prediction = lgbm_model.predict(Xsc_test)\n",
    "lgbm_prob = lgbm_model.predict_proba(Xsc_test)"
   ]
  },
  {
   "cell_type": "code",
   "execution_count": null,
   "metadata": {
    "execution": {
     "iopub.execute_input": "2023-10-12T14:31:44.507486Z",
     "iopub.status.busy": "2023-10-12T14:31:44.507122Z",
     "iopub.status.idle": "2023-10-12T14:31:45.820947Z",
     "shell.execute_reply": "2023-10-12T14:31:45.819912Z",
     "shell.execute_reply.started": "2023-10-12T14:31:44.507455Z"
    }
   },
   "outputs": [],
   "source": [
    "list_metrics_lgbm = metrics_estimation(lgbm_model, Xsc_train, Xsc_test, y_train_sm, y_test, lgbm_prediction, lgbm_prob)"
   ]
  },
  {
   "cell_type": "code",
   "execution_count": null,
   "metadata": {
    "execution": {
     "iopub.execute_input": "2023-10-12T14:31:45.824489Z",
     "iopub.status.busy": "2023-10-12T14:31:45.823978Z",
     "iopub.status.idle": "2023-10-12T14:31:48.994998Z",
     "shell.execute_reply": "2023-10-12T14:31:48.994253Z",
     "shell.execute_reply.started": "2023-10-12T14:31:45.824444Z"
    }
   },
   "outputs": [],
   "source": [
    "# retrieve the probabilities for the positive class\n",
    "lgbm_prob_positive = lgbm_prob[:, 1]\n",
    "\n",
    "# calculate the no skill line as the proportion of the positive class\n",
    "no_skill = len((y_train_sm[y_train_sm==1])+(y_test[y_test==1])) / len(y_train_sm + y_test)\n",
    "# plot the no skill precision-recall curve\n",
    "plt.plot([0, 1], [no_skill, no_skill], linestyle='--', label='No Skill')\n",
    "\n",
    "# calculate inputs for the PR curve\n",
    "precision, recall, thresholds = precision_recall_curve(y_test, lgbm_prob_positive)\n",
    "\n",
    "# plot PR curve\n",
    "plt.plot(recall, precision, marker='.', label='Logistic')\n",
    "# axis labels\n",
    "plt.xlabel('Recall')\n",
    "plt.ylabel('Precision')\n",
    "# show the legend\n",
    "plt.legend()\n",
    "plt.show()\n",
    "\n",
    "# calculate and print PR AUC\n",
    "auc_pr = auc(recall, precision)\n",
    "print('AUC PR: %.3f' % auc_pr)"
   ]
  },
  {
   "cell_type": "code",
   "execution_count": null,
   "metadata": {
    "execution": {
     "iopub.execute_input": "2023-10-12T14:31:48.997733Z",
     "iopub.status.busy": "2023-10-12T14:31:48.997008Z",
     "iopub.status.idle": "2023-10-12T14:31:49.450978Z",
     "shell.execute_reply": "2023-10-12T14:31:49.449758Z",
     "shell.execute_reply.started": "2023-10-12T14:31:48.997702Z"
    }
   },
   "outputs": [],
   "source": [
    "#confusion matrix\n",
    "cm = confusion_matrix(y_test, lgbm_prediction, labels=lgbm_model.classes_)\n",
    "disp = ConfusionMatrixDisplay(confusion_matrix=cm, display_labels=lgbm_model.classes_)\n",
    "disp.plot()\n",
    "plt.show()"
   ]
  },
  {
   "cell_type": "code",
   "execution_count": null,
   "metadata": {
    "execution": {
     "iopub.execute_input": "2023-10-12T14:31:49.452908Z",
     "iopub.status.busy": "2023-10-12T14:31:49.452532Z",
     "iopub.status.idle": "2023-10-12T14:31:52.031036Z",
     "shell.execute_reply": "2023-10-12T14:31:52.029834Z",
     "shell.execute_reply.started": "2023-10-12T14:31:49.452875Z"
    }
   },
   "outputs": [],
   "source": [
    "print(classification_report(lgbm_prediction, y_test))"
   ]
  },
  {
   "cell_type": "markdown",
   "metadata": {},
   "source": [
    "**7.9. CatBoost**\n",
    "\n",
    "CatBoost is a type of gradient boosting algorithm \n"
   ]
  },
  {
   "cell_type": "code",
   "execution_count": null,
   "metadata": {
    "execution": {
     "iopub.execute_input": "2023-10-12T14:31:52.032723Z",
     "iopub.status.busy": "2023-10-12T14:31:52.03237Z",
     "iopub.status.idle": "2023-10-12T14:45:51.229143Z",
     "shell.execute_reply": "2023-10-12T14:45:51.227808Z",
     "shell.execute_reply.started": "2023-10-12T14:31:52.032694Z"
    }
   },
   "outputs": [],
   "source": [
    "cboost_model = CatBoostClassifier(verbose=0)\n",
    "cboost_model.fit(Xsc_train, y_train_sm)\n",
    "cboost_prediction = cboost_model.predict(Xsc_test)\n",
    "cboost_prob = cboost_model.predict_proba(Xsc_test)"
   ]
  },
  {
   "cell_type": "code",
   "execution_count": null,
   "metadata": {
    "execution": {
     "iopub.execute_input": "2023-10-12T14:45:51.231104Z",
     "iopub.status.busy": "2023-10-12T14:45:51.230733Z",
     "iopub.status.idle": "2023-10-12T14:45:52.650738Z",
     "shell.execute_reply": "2023-10-12T14:45:52.649305Z",
     "shell.execute_reply.started": "2023-10-12T14:45:51.231074Z"
    }
   },
   "outputs": [],
   "source": [
    "list_metrics_cboost = metrics_estimation(cboost_model, Xsc_train, Xsc_test, y_train_sm, y_test, cboost_prediction, cboost_prob)"
   ]
  },
  {
   "cell_type": "code",
   "execution_count": null,
   "metadata": {
    "execution": {
     "iopub.execute_input": "2023-10-12T14:45:52.652817Z",
     "iopub.status.busy": "2023-10-12T14:45:52.652325Z",
     "iopub.status.idle": "2023-10-12T14:45:56.517942Z",
     "shell.execute_reply": "2023-10-12T14:45:56.516572Z",
     "shell.execute_reply.started": "2023-10-12T14:45:52.652783Z"
    }
   },
   "outputs": [],
   "source": [
    "# retrieve the probabilities for the positive class\n",
    "cboost_prob_positive = cboost_prob[:, 1]\n",
    "\n",
    "# calculate the no skill line as the proportion of the positive class\n",
    "no_skill = len((y_train_sm[y_train_sm==1])+(y_test[y_test==1])) / len(y_train_sm + y_test)\n",
    "# plot the no skill precision-recall curve\n",
    "plt.plot([0, 1], [no_skill, no_skill], linestyle='--', label='No Skill')\n",
    "\n",
    "# calculate inputs for the PR curve\n",
    "precision, recall, thresholds = precision_recall_curve(y_test, cboost_prob_positive)\n",
    "\n",
    "# plot PR curve\n",
    "plt.plot(recall, precision, marker='.', label='Logistic')\n",
    "# axis labels\n",
    "plt.xlabel('Recall')\n",
    "plt.ylabel('Precision')\n",
    "# show the legend\n",
    "plt.legend()\n",
    "plt.show()\n",
    "\n",
    "# calculate and print PR AUC\n",
    "auc_pr = auc(recall, precision)\n",
    "print('AUC PR: %.3f' % auc_pr)"
   ]
  },
  {
   "cell_type": "code",
   "execution_count": null,
   "metadata": {
    "execution": {
     "iopub.execute_input": "2023-10-12T14:45:56.519691Z",
     "iopub.status.busy": "2023-10-12T14:45:56.519345Z",
     "iopub.status.idle": "2023-10-12T14:45:57.009039Z",
     "shell.execute_reply": "2023-10-12T14:45:57.007891Z",
     "shell.execute_reply.started": "2023-10-12T14:45:56.519661Z"
    }
   },
   "outputs": [],
   "source": [
    "#confusion matrix\n",
    "cm = confusion_matrix(y_test, cboost_prediction, labels=cboost_model.classes_)\n",
    "disp = ConfusionMatrixDisplay(confusion_matrix=cm, display_labels=cboost_model.classes_)\n",
    "disp.plot()\n",
    "plt.show()"
   ]
  },
  {
   "cell_type": "code",
   "execution_count": null,
   "metadata": {
    "execution": {
     "iopub.execute_input": "2023-10-12T14:45:57.013347Z",
     "iopub.status.busy": "2023-10-12T14:45:57.01257Z",
     "iopub.status.idle": "2023-10-12T14:45:59.602576Z",
     "shell.execute_reply": "2023-10-12T14:45:59.601367Z",
     "shell.execute_reply.started": "2023-10-12T14:45:57.0133Z"
    }
   },
   "outputs": [],
   "source": [
    "print(classification_report(cboost_prediction, y_test))"
   ]
  },
  {
   "cell_type": "markdown",
   "metadata": {},
   "source": [
    "# Choosing Best Model"
   ]
  },
  {
   "cell_type": "markdown",
   "metadata": {},
   "source": [
    "Lets check which classifier is best out of all!"
   ]
  },
  {
   "cell_type": "code",
   "execution_count": null,
   "metadata": {
    "execution": {
     "iopub.execute_input": "2023-10-12T14:46:15.608122Z",
     "iopub.status.busy": "2023-10-12T14:46:15.607285Z",
     "iopub.status.idle": "2023-10-12T14:46:15.618582Z",
     "shell.execute_reply": "2023-10-12T14:46:15.617772Z",
     "shell.execute_reply.started": "2023-10-12T14:46:15.608073Z"
    }
   },
   "outputs": [],
   "source": [
    "classifiers = []\n",
    "classifiers.append(knn_model) #K-Nearest Neighbors\n",
    "classifiers.append(rf_model) #Random Forests\n",
    "classifiers.append(dtc_model) #Decision Tree Classifier\n",
    "classifiers.append(lda_model) #Linear Discriminant Analysis\n",
    "classifiers.append(lr_model) #Logistic Regression \n",
    "classifiers.append(nn_model) #Neural Networks\n",
    "classifiers.append(xgb_model) #XGBoost\n",
    "classifiers.append(lgbm_model) #LightGBM\n",
    "classifiers.append(cboost_model) #CatBoost"
   ]
  },
  {
   "cell_type": "code",
   "execution_count": null,
   "metadata": {
    "execution": {
     "iopub.execute_input": "2023-10-12T14:46:18.900771Z",
     "iopub.status.busy": "2023-10-12T14:46:18.900286Z",
     "iopub.status.idle": "2023-10-12T14:46:18.912536Z",
     "shell.execute_reply": "2023-10-12T14:46:18.911288Z",
     "shell.execute_reply.started": "2023-10-12T14:46:18.900734Z"
    }
   },
   "outputs": [],
   "source": [
    "precisions=[]\n",
    "recalls=[]\n",
    "f1s=[]\n",
    "logloss=[]\n",
    "briers=[]\n",
    "list_metrics=[list_metrics_knn, list_metrics_rf, list_metrics_dtc, \n",
    "              list_metrics_lda, list_metrics_lr, list_metrics_nn, \n",
    "              list_metrics_xgb, list_metrics_lgbm, list_metrics_cboost]\n",
    "for m in list_metrics:\n",
    "    precisions.append(m[0])\n",
    "    recalls.append(m[1])\n",
    "    f1s.append(m[2])\n",
    "    logloss.append(m[3])\n",
    "    briers.append(m[4])"
   ]
  },
  {
   "cell_type": "code",
   "execution_count": null,
   "metadata": {
    "execution": {
     "iopub.execute_input": "2023-10-12T14:46:23.338717Z",
     "iopub.status.busy": "2023-10-12T14:46:23.338248Z",
     "iopub.status.idle": "2023-10-12T14:46:23.348548Z",
     "shell.execute_reply": "2023-10-12T14:46:23.347207Z",
     "shell.execute_reply.started": "2023-10-12T14:46:23.338681Z"
    }
   },
   "outputs": [],
   "source": [
    "precisions_dict={}\n",
    "recalls_dict={}\n",
    "f1s_dict={}\n",
    "logloss_dict={}\n",
    "briers_dict={}\n",
    "\n",
    "for i in range(9):\n",
    "    key=['K-Nearest Neighbors', 'Random Forests', 'Decision Tree Classifier',\n",
    "        'Linear Discriminant Analysis','Logistic Regression',\n",
    "         'Neural Networks','XGBoost','LightGBM','CatBoost'][i]\n",
    "    precisions_dict[key] = precisions[i]\n",
    "    recalls_dict[key] = recalls[i]\n",
    "    f1s_dict[key] = f1s[i]\n",
    "    logloss_dict[key] = logloss[i]\n",
    "    briers_dict[key] = briers[i]\n",
    "\n",
    "precisions_dict_sorted = dict(sorted(precisions_dict.items(), key = lambda item: item[1]))\n",
    "recalls_dict_sorted = dict(sorted(recalls_dict.items(), key = lambda item: item[1]))\n",
    "f1s_dict_sorted = dict(sorted(f1s_dict.items(), key = lambda item: item[1]))\n",
    "logloss_dict_sorted = dict(sorted(logloss_dict.items(), key = lambda item: item[1]))\n",
    "briers_dict_sorted = dict(sorted(briers_dict.items(), key = lambda item: item[1]))"
   ]
  },
  {
   "cell_type": "code",
   "execution_count": null,
   "metadata": {
    "execution": {
     "iopub.execute_input": "2023-10-12T14:50:50.676345Z",
     "iopub.status.busy": "2023-10-12T14:50:50.675859Z",
     "iopub.status.idle": "2023-10-12T14:51:02.300394Z",
     "shell.execute_reply": "2023-10-12T14:51:02.298968Z",
     "shell.execute_reply.started": "2023-10-12T14:50:50.67631Z"
    }
   },
   "outputs": [],
   "source": [
    "#set up plotting area\n",
    "plt.figure(figsize=(10,8)).clf ()\n",
    "\n",
    "#fit logistic regression model and plot ROC curve\n",
    "precision, recall, thresholds = precision_recall_curve(y_test, knn_prob_positive)\n",
    "auc_pr = auc(recall, precision)\n",
    "plt.plot(recall, precision, marker='.', label='KNN  %.3f' % auc_pr)\n",
    "\n",
    "precision, recall, thresholds = precision_recall_curve(y_test, rf_prob_positive)\n",
    "auc_pr = auc(recall, precision)\n",
    "plt.plot(recall, precision, marker='.', label='RF  %.3f' % auc_pr)\n",
    "\n",
    "precision, recall, thresholds = precision_recall_curve(y_test, dtc_prob_positive)\n",
    "auc_pr = auc(recall, precision)\n",
    "plt.plot(recall, precision, marker='.', label='DTC  %.3f' % auc_pr)\n",
    "\n",
    "precision, recall, thresholds = precision_recall_curve(y_test, lda_prob_positive)\n",
    "auc_pr = auc(recall, precision)\n",
    "plt.plot(recall, precision, marker='.', label='LDA  %.3f' % auc_pr)\n",
    "\n",
    "precision, recall, thresholds = precision_recall_curve(y_test, lr_prob_positive)\n",
    "auc_pr = auc(recall, precision)\n",
    "plt.plot(recall, precision, marker='.', label='LR  %.3f' % auc_pr)\n",
    "\n",
    "precision, recall, thresholds = precision_recall_curve(y_test, nn_prob_positive)\n",
    "auc_pr = auc(recall, precision)\n",
    "plt.plot(recall, precision, marker='.', label='NN  %.3f' % auc_pr)\n",
    "\n",
    "precision, recall, thresholds = precision_recall_curve(y_test, xgb_prob_positive)\n",
    "auc_pr = auc(recall, precision)\n",
    "plt.plot(recall, precision, marker='.', label='XGB  %.3f' % auc_pr)\n",
    "\n",
    "precision, recall, thresholds = precision_recall_curve(y_test, lgbm_prob_positive)\n",
    "auc_pr = auc(recall, precision)\n",
    "plt.plot(recall, precision, marker='.', label='LGBM  %.3f' % auc_pr)\n",
    "\n",
    "precision, recall, thresholds = precision_recall_curve(y_test, cboost_prob_positive)\n",
    "auc_pr = auc(recall, precision)\n",
    "plt.plot(recall, precision, marker='.', label='cboost  %.3f' % auc_pr)\n",
    "\n",
    "# axis labels\n",
    "plt.xlabel('Recall')\n",
    "plt.ylabel('Precision')\n",
    "# show the legend\n",
    "plt.legend(bbox_to_anchor=(1,1))\n",
    "plt.show()"
   ]
  },
  {
   "cell_type": "code",
   "execution_count": null,
   "metadata": {
    "execution": {
     "iopub.execute_input": "2023-10-12T16:37:25.93123Z",
     "iopub.status.busy": "2023-10-12T16:37:25.930802Z",
     "iopub.status.idle": "2023-10-12T16:37:25.940999Z",
     "shell.execute_reply": "2023-10-12T16:37:25.939877Z",
     "shell.execute_reply.started": "2023-10-12T16:37:25.931198Z"
    }
   },
   "outputs": [],
   "source": [
    "# function to add value labels\n",
    "def addlabels(x,y):\n",
    "    for i in range(len(x)):\n",
    "        plt.text(i,y[i],'{:.3f}'.format(y[i]))"
   ]
  },
  {
   "cell_type": "code",
   "execution_count": null,
   "metadata": {
    "execution": {
     "iopub.execute_input": "2023-10-12T17:03:59.707572Z",
     "iopub.status.busy": "2023-10-12T17:03:59.706916Z",
     "iopub.status.idle": "2023-10-12T17:03:59.995579Z",
     "shell.execute_reply": "2023-10-12T17:03:59.994665Z",
     "shell.execute_reply.started": "2023-10-12T17:03:59.707536Z"
    }
   },
   "outputs": [],
   "source": [
    "plt.rcParams[\"figure.figsize\"] = (20,5)\n",
    "\n",
    "plt.bar(list(precisions_dict_sorted.keys()), list(precisions_dict_sorted.values()), \n",
    "       np.round(list(precisions_dict_sorted.values()),3), align='center')\n",
    "\n",
    "# calling the function to add value labels\n",
    "addlabels(list(precisions_dict_sorted.keys()), list(precisions_dict_sorted.values()))\n",
    "\n",
    "plt.legend(title='Precision score of each classifiers')\n",
    "plt.xticks(rotation=90)\n",
    "plt.show()"
   ]
  },
  {
   "cell_type": "code",
   "execution_count": null,
   "metadata": {
    "execution": {
     "iopub.execute_input": "2023-10-12T17:05:01.916557Z",
     "iopub.status.busy": "2023-10-12T17:05:01.915864Z",
     "iopub.status.idle": "2023-10-12T17:05:02.194907Z",
     "shell.execute_reply": "2023-10-12T17:05:02.193743Z",
     "shell.execute_reply.started": "2023-10-12T17:05:01.916524Z"
    }
   },
   "outputs": [],
   "source": [
    "plt.rcParams[\"figure.figsize\"] = (20,5)\n",
    "plt.bar(list(recalls_dict_sorted.keys()), list(recalls_dict_sorted.values()), \n",
    "             np.round(list(recalls_dict_sorted.values()),3))\n",
    "\n",
    "# calling the function to add value labels\n",
    "addlabels(list(recalls_dict_sorted.keys()), list(recalls_dict_sorted.values()))\n",
    "\n",
    "plt.legend(title='Recall score of each classifiers')\n",
    "plt.xticks(rotation=90)\n",
    "plt.show()"
   ]
  },
  {
   "cell_type": "code",
   "execution_count": null,
   "metadata": {
    "execution": {
     "iopub.execute_input": "2023-10-12T17:05:49.678904Z",
     "iopub.status.busy": "2023-10-12T17:05:49.678451Z",
     "iopub.status.idle": "2023-10-12T17:05:49.993909Z",
     "shell.execute_reply": "2023-10-12T17:05:49.992639Z",
     "shell.execute_reply.started": "2023-10-12T17:05:49.678872Z"
    }
   },
   "outputs": [],
   "source": [
    "plt.rcParams[\"figure.figsize\"] = (20,5)\n",
    "plt.bar(list(f1s_dict_sorted.keys()), list(f1s_dict_sorted.values()), \n",
    "             np.round(list(f1s_dict_sorted.values()),3))\n",
    "\n",
    "# calling the function to add value labels\n",
    "addlabels(list(f1s_dict_sorted.keys()), list(f1s_dict_sorted.values()))\n",
    "\n",
    "plt.legend(title='F1 score of each classifiers')\n",
    "plt.xticks(rotation=90)\n",
    "plt.show()"
   ]
  },
  {
   "cell_type": "code",
   "execution_count": null,
   "metadata": {
    "execution": {
     "iopub.execute_input": "2023-10-12T17:06:28.701717Z",
     "iopub.status.busy": "2023-10-12T17:06:28.701264Z",
     "iopub.status.idle": "2023-10-12T17:06:29.011935Z",
     "shell.execute_reply": "2023-10-12T17:06:29.010731Z",
     "shell.execute_reply.started": "2023-10-12T17:06:28.701683Z"
    }
   },
   "outputs": [],
   "source": [
    "plt.rcParams[\"figure.figsize\"] = (20,5)\n",
    "plt.bar(list(logloss_dict_sorted.keys()), list(logloss_dict_sorted.values()), \n",
    "             np.round(list(logloss_dict_sorted.values()),3))\n",
    "\n",
    "# calling the function to add value labels\n",
    "addlabels(list(logloss_dict_sorted.keys()), list(logloss_dict_sorted.values()))\n",
    "\n",
    "plt.legend(title='LogLoss score of each classifiers')\n",
    "plt.xticks(rotation=90)\n",
    "plt.show()"
   ]
  },
  {
   "cell_type": "code",
   "execution_count": null,
   "metadata": {
    "execution": {
     "iopub.execute_input": "2023-10-12T17:21:07.837776Z",
     "iopub.status.busy": "2023-10-12T17:21:07.83725Z",
     "iopub.status.idle": "2023-10-12T17:21:08.228618Z",
     "shell.execute_reply": "2023-10-12T17:21:08.227714Z",
     "shell.execute_reply.started": "2023-10-12T17:21:07.837733Z"
    }
   },
   "outputs": [],
   "source": [
    "plt.rcParams[\"figure.figsize\"] = (20,5)\n",
    "plt.bar(list(briers_dict_sorted.keys()), list(briers_dict_sorted.values()), \n",
    "             np.round(list(briers_dict_sorted.values()),3))\n",
    "\n",
    "# calling the function to add value labels\n",
    "addlabels(list(briers_dict_sorted.keys()), list(briers_dict_sorted.values()))\n",
    "\n",
    "plt.legend(title='Brier score of each classifiers')\n",
    "plt.xticks(rotation=90)\n",
    "plt.show()"
   ]
  },
  {
   "cell_type": "markdown",
   "metadata": {},
   "source": [
    "Several machine learning models, including CatBoost, LightGBM, and XGBoost, demonstrated strong performance in handling their respective tasks."
   ]
  }
 ],
 "metadata": {
  "kaggle": {
   "accelerator": "none",
   "dataSources": [
    {
     "datasetId": 1069,
     "sourceId": 1940,
     "sourceType": "datasetVersion"
    }
   ],
   "dockerImageVersionId": 30474,
   "isGpuEnabled": false,
   "isInternetEnabled": true,
   "language": "python",
   "sourceType": "notebook"
  },
  "kernelspec": {
   "display_name": "Python 3 (ipykernel)",
   "language": "python",
   "name": "python3"
  },
  "language_info": {
   "codemirror_mode": {
    "name": "ipython",
    "version": 3
   },
   "file_extension": ".py",
   "mimetype": "text/x-python",
   "name": "python",
   "nbconvert_exporter": "python",
   "pygments_lexer": "ipython3",
   "version": "3.9.13"
  }
 },
 "nbformat": 4,
 "nbformat_minor": 4
}
